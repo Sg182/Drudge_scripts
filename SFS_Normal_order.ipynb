{
 "cells": [
  {
   "cell_type": "code",
   "execution_count": 1,
   "id": "d3e3c417-2e45-4084-97de-8789c24d0916",
   "metadata": {},
   "outputs": [],
   "source": [
    "import os,sys\n",
    " \n",
    "\n",
    "os.environ[\"PYSPARK_DRIVER_PYTHON\"] = sys.executable\n",
    "os.environ[\"PYSPARK_PYTHON\"]        = sys.executable\n"
   ]
  },
  {
   "cell_type": "code",
   "execution_count": 2,
   "id": "a39b0e31-623c-42b3-9ccb-cab25da46970",
   "metadata": {},
   "outputs": [
    {
     "name": "stdout",
     "output_type": "stream",
     "text": [
      "finished importing\n"
     ]
    }
   ],
   "source": [
    "from pyspark import SparkContext\n",
    "from sympy import *\n",
    "from drudge import *\n",
    "from gristmill import *\n",
    "print(\"finished importing\")"
   ]
  },
  {
   "cell_type": "code",
   "execution_count": 3,
   "id": "bf8ca5e0-25eb-4b55-9db7-76bc9bcd0ff7",
   "metadata": {},
   "outputs": [
    {
     "name": "stderr",
     "output_type": "stream",
     "text": [
      "25/10/25 15:08:40 WARN Utils: Your hostname, Swarnamoys-MacBook-Pro.local resolves to a loopback address: 127.0.0.1; using 10.0.0.87 instead (on interface en0)\n",
      "25/10/25 15:08:40 WARN Utils: Set SPARK_LOCAL_IP if you need to bind to another address\n",
      "Setting default log level to \"WARN\".\n",
      "To adjust logging level use sc.setLogLevel(newLevel). For SparkR, use setLogLevel(newLevel).\n",
      "25/10/25 15:08:40 WARN NativeCodeLoader: Unable to load native-hadoop library for your platform... using builtin-java classes where applicable\n",
      "                                                                                "
     ]
    },
    {
     "name": "stdout",
     "output_type": "stream",
     "text": [
      "finished\n"
     ]
    }
   ],
   "source": [
    "import re\n",
    "\n",
    "# ----------------------------------------------------------------------------\n",
    "# 1) Start Spark & BCS quasiparticle drudge\n",
    "# ----------------------------------------------------------------------------\n",
    "ctx = SparkContext('local[2]', 'bcs_ccsd')\n",
    "dr  = ReducedBCSDrudge(ctx)\n",
    "dr.full_simplify = True\n",
    "print(\"finished\")"
   ]
  },
  {
   "cell_type": "code",
   "execution_count": 4,
   "id": "6549d2bb-3a14-4f8f-b37a-c913ad020ee1",
   "metadata": {},
   "outputs": [],
   "source": [
    "'''p,q,r,s = dr.names.A_dumms[:4]\n",
    "\n",
    " \n",
    "u, v = IndexedBase('u'), IndexedBase('v')\n",
    "E0 = Symbol(r'E_0')\n",
    "H120, H021 = IndexedBase('h120'), IndexedBase('h021')\n",
    "H011, H110 = IndexedBase('h011'), IndexedBase('h110')\n",
    "H100 = IndexedBase('h100') \n",
    "H001, H020 = IndexedBase('h001'), IndexedBase('h020')\n",
    "H010 = IndexedBase('h010') \n",
    "H000 = IndexedBase('h000')'''"
   ]
  },
  {
   "cell_type": "code",
   "execution_count": 6,
   "id": "e0f1abaf-e319-4e66-8c3e-969b6e529243",
   "metadata": {},
   "outputs": [
    {
     "data": {
      "text/latex": [
       "$\\displaystyle - \\sum_{p \\in L}  \\frac{1}{4}  \\mathbf{P}_{p} - \\sum_{p \\in L}  \\frac{1}{2}  \\mathbf{N}_{p - 1} \\mathbf{P^\\dagger}_{p} \\mathbf{N}_{p + 1}  + \\sum_{p \\in L} \\frac{1}{2}  \\mathbf{N}_{p - 1} \\mathbf{P}_{p}  + \\sum_{p \\in L} \\frac{1}{2}  \\mathbf{P^\\dagger}_{p} \\mathbf{N}_{p + 1} - \\sum_{p \\in L}  \\frac{\\Delta}{4}  \\mathbf{N}_{p - 1}  + \\sum_{p \\in L} \\frac{\\Delta}{4}  - \\sum_{p \\in L}  \\frac{1}{4}  \\mathbf{P^\\dagger}_{p}  + \\sum_{p \\in L} \\frac{1}{2}  \\mathbf{N}_{p - 1} \\mathbf{P^\\dagger}_{p} - \\sum_{p \\in L}  \\frac{1}{2}  \\mathbf{N}_{p - 1} \\mathbf{P}_{p} \\mathbf{N}_{p + 1}  + \\sum_{p \\in L} \\frac{1}{2}  \\mathbf{P}_{p} \\mathbf{N}_{p + 1}  + \\sum_{p \\in L} \\frac{\\Delta}{4}  \\mathbf{N}_{p - 1} \\mathbf{N}_{p + 1} - \\sum_{p \\in L}  \\frac{\\Delta}{4}  \\mathbf{N}_{p + 1}$"
      ],
      "text/plain": [
       "<IPython.core.display.Math object>"
      ]
     },
     "execution_count": 6,
     "metadata": {},
     "output_type": "execute_result"
    }
   ],
   "source": [
    "P, Pdag, N = dr.names.P, dr.names.Pdag, dr.names.N\n",
    "'''P_i_dag = (u[p]*v[p]+u[p]**2*Pdag[p]\n",
    "     - u[p]*v[p]*N[p]\n",
    "     - v[p]**2*P[p])\n",
    "\n",
    "P_j_dag = (\n",
    "        u[q]*v[q]\n",
    "      + u[q]**2 * Pdag[q]\n",
    "      - u[q]*v[q] * N[q]\n",
    "      - v[q]**2 * P[q]\n",
    "    )\n",
    "P_i = (\n",
    "        (u[p])*(v[p])\n",
    "      + (u[p])**2 * P[p]\n",
    "      - (u[p])*(v[p]) * N[p]\n",
    "      - (v[p])**2 * Pdag[p]\n",
    "    )\n",
    "P_j = ((u[q])*(v[q])\n",
    "      + (u[q])**2 * P[q]\n",
    "      - (u[q])*(v[q]) * N[q]\n",
    "      - (v[q])**2 * Pdag[q])\n",
    "#hc = P_j_dag * P_i\n",
    "N_i = 2*(v[p])*v[p] +((u[p])*u[p] - (v[p])*v[p])*N[p] +2*u[p]*(v[p])*Pdag[p]\\\n",
    "            +2*(u[p])*v[p]*P[p]\n",
    "N_j = 2*(v[q])*v[q] +((u[q])*u[q] - (v[q])*v[q])*N[q] +2*u[q]*(v[q])*Pdag[q]\\\n",
    "            +2*(u[q])*v[q]*P[q]\n",
    "\n",
    "N_k = 2*(v[r])*v[r] +((u[r])*u[r] - (v[r])*v[r])*N[r] +2*u[r]*(v[r])*Pdag[r]\\\n",
    "       +2*(u[r])*v[r]*P[r]'''\n",
    "\n",
    "Lmax = symbols('Lmax', integer=True, positive=True)\n",
    "L = Range('L', 1, Lmax)  # symbolic chain 1..Lmax (boundary handling is symbolic)\n",
    "dr.set_dumms(L, (p,))\n",
    "G =  Symbol(r'\\Delta')\n",
    "#expr = Rational(1,4)*(Pdag[p] + P[p]) - Rational(1,2)*(N[p-1]-1)*(Pdag[p] + P[p])*(N[p+1] - 1) +Rational(1,4)*G*(N[p-1] - 1)*(N[p+1] - 1)\n",
    "expr = (Pdag[p] + P[p])/4 - (N[p-1]-1)*(Pdag[p] + P[p])*(N[p+1] - 1)/2 + G*(N[p-1] - 1)*(N[p+1] - 1)/4\n",
    "expr = dr.sum((p,L),expr).merge()\n",
    "expr.display()\n"
   ]
  },
  {
   "cell_type": "code",
   "execution_count": 7,
   "id": "6cd00dbd-1167-47e0-afd3-a0b0407cf881",
   "metadata": {},
   "outputs": [],
   "source": [
    "p,q,r,s = dr.names.A_dumms[:4]\n",
    "u, v = IndexedBase('u'), IndexedBase('v')\n",
    "E0 = Symbol(r'E_0')\n",
    "H120, H110 , H021 = IndexedBase('h120'), IndexedBase('h110'), IndexedBase('h021')\n",
    "H011, H110 = IndexedBase('h011'), IndexedBase('h110')\n",
    "H100, H011 = IndexedBase('h100'), IndexedBase('h011')\n",
    "H001, H020 = IndexedBase('h001'), IndexedBase('h020')\n",
    "H010 = IndexedBase('h010') \n",
    "H000 = IndexedBase('h000')\n",
    "\n",
    "P, Pdag, N = dr.names.P, dr.names.Pdag, dr.names.N\n",
    "P_i_dag = (u[p]*v[p]+u[p]**2*Pdag[p]\n",
    "     - u[p]*v[p]*N[p]\n",
    "     - v[p]**2*P[p])\n",
    "\n",
    "P_j_dag = (\n",
    "        u[q]*v[q]\n",
    "      + u[q]**2 * Pdag[q]\n",
    "      - u[q]*v[q] * N[q]\n",
    "      - v[q]**2 * P[q]\n",
    "    )\n",
    "\n",
    "P_k_dag = (\n",
    "        u[r]*v[r]\n",
    "      + u[r]**2 * Pdag[r]\n",
    "      - u[r]*v[r] * N[r]\n",
    "      - v[r]**2 * P[r]\n",
    "    )\n",
    "P_i = (\n",
    "        (u[p])*(v[p])\n",
    "      + (u[p])**2 * P[p]\n",
    "      - (u[p])*(v[p]) * N[p]\n",
    "      - (v[p])**2 * Pdag[p]\n",
    "    )\n",
    "P_j = ((u[q])*(v[q])\n",
    "      + (u[q])**2 * P[q]\n",
    "      - (u[q])*(v[q]) * N[q]\n",
    "      - (v[q])**2 * Pdag[q])\n",
    "\n",
    "P_k = ((u[r])*(v[r])\n",
    "      + (u[r])**2 * P[r]\n",
    "      - (u[r])*(v[r]) * N[r]\n",
    "      - (v[r])**2 * Pdag[r])\n",
    "#hc = P_j_dag * P_i\n",
    "N_i = 2*(v[p])*v[p] +((u[p])*u[p] - (v[p])*v[p])*N[p] +2*u[p]*(v[p])*Pdag[p]\\\n",
    "            +2*(u[p])*v[p]*P[p]\n",
    "N_j = 2*(v[q])*v[q] +((u[q])*u[q] - (v[q])*v[q])*N[q] +2*u[q]*(v[q])*Pdag[q]\\\n",
    "            +2*(u[q])*v[q]*P[q]\n",
    "\n",
    "N_k = 2*(v[r])*v[r] +((u[r])*u[r] - (v[r])*v[r])*N[r] +2*u[r]*(v[r])*Pdag[r]\\\n",
    "       +2*(u[r])*v[r]*P[r]"
   ]
  },
  {
   "cell_type": "code",
   "execution_count": 9,
   "id": "03ac69a1-8ab9-40f1-917e-3ec6734a3217",
   "metadata": {},
   "outputs": [
    {
     "name": "stderr",
     "output_type": "stream",
     "text": [
      "                                                                                "
     ]
    },
    {
     "data": {
      "text/latex": [
       "$\\displaystyle \\sum_{p \\in A} \\sum_{q \\in A} \\sum_{r \\in A} \\left(4 h^{(021)}_{p,q,r} u_{p} u_{q} u_{r} v_{p} v_{q} v_{r} - 8 h^{(021)}_{p,r,q} u_{p} v_{p} v_{q}^{2} v_{r}^{2} + 8 h^{(120)}_{p,q,r} u_{p}^{2} u_{q} v_{q} v_{r}^{2} + 4 h^{(120)}_{r,p,q} u_{p} u_{q} u_{r} v_{p} v_{q} v_{r}\\right)  \\mathbf{P^\\dagger}_{p} \\mathbf{P^\\dagger}_{q} - \\sum_{p \\in A} \\sum_{q \\in A} \\sum_{r \\in A} \\left(4 h^{(021)}_{p,q,r} u_{p} u_{q}^{2} u_{r} v_{p} v_{r} - 4 h^{(021)}_{p,q,r} u_{p} u_{r} v_{p} v_{q}^{2} v_{r} + h^{(021)}_{q,r,p} u_{q}^{2} u_{r}^{2} v_{p}^{2} - 2 h^{(021)}_{q,r,p} u_{q}^{2} v_{p}^{2} v_{r}^{2} + h^{(021)}_{q,r,p} v_{p}^{2} v_{q}^{2} v_{r}^{2} - h^{(120)}_{p,q,r} u_{p}^{2} u_{q}^{2} u_{r}^{2} + 2 h^{(120)}_{p,q,r} u_{p}^{2} u_{q}^{2} v_{r}^{2} - h^{(120)}_{p,q,r} u_{p}^{2} v_{q}^{2} v_{r}^{2} + 4 h^{(120)}_{q,p,r} u_{p} u_{q} u_{r}^{2} v_{p} v_{q} - 4 h^{(120)}_{q,p,r} u_{p} u_{q} v_{p} v_{q} v_{r}^{2}\\right)  \\mathbf{P^\\dagger}_{p} \\mathbf{N}_{q} \\mathbf{N}_{r} - \\sum_{p \\in A} \\sum_{q \\in A} \\left(2 h^{(011)}_{p,q} u_{p} v_{p} v_{q}^{2} - 4 h^{(020)}_{p,q} u_{p} u_{q} v_{p} v_{q} + 4 h^{(021)}_{p,p,q} u_{p}^{3} v_{p} v_{q}^{2} - 4 h^{(021)}_{p,p,q} u_{p} v_{p}^{3} v_{q}^{2} + 8 h^{(021)}_{p,q,q} u_{p} u_{q}^{2} v_{p} v_{q}^{2} - 8 h^{(021)}_{p,q,q} u_{p} v_{p} v_{q}^{4} - 2 h^{(110)}_{p,q} u_{p}^{2} u_{q} v_{q} + 8 h^{(120)}_{p,p,q} u_{p}^{2} u_{q} v_{p}^{2} v_{q} - 4 h^{(120)}_{p,q,q} u_{p}^{2} u_{q}^{3} v_{q} + 4 h^{(120)}_{p,q,q} u_{p}^{2} u_{q} v_{q}^{3} + 8 h^{(120)}_{q,p,q} u_{p} u_{q}^{2} v_{p} v_{q}^{2}\\right)  \\mathbf{P^\\dagger}_{p} \\mathbf{P^\\dagger}_{q}  + \\sum_{p \\in A} \\sum_{q \\in A} \\sum_{r \\in A} \\left(h^{(021)}_{p,q,r} u_{p}^{2} u_{q}^{2} u_{r} v_{r} - 2 h^{(021)}_{p,q,r} u_{p}^{2} u_{r} v_{q}^{2} v_{r} + h^{(021)}_{p,q,r} u_{r} v_{p}^{2} v_{q}^{2} v_{r} - 4 h^{(021)}_{p,r,q} u_{p}^{2} u_{q} v_{q} v_{r}^{2} + 4 h^{(021)}_{p,r,q} u_{q} v_{p}^{2} v_{q} v_{r}^{2} - 4 h^{(120)}_{p,q,r} u_{p} u_{q}^{2} v_{p} v_{r}^{2} + 4 h^{(120)}_{p,q,r} u_{p} v_{p} v_{q}^{2} v_{r}^{2} + h^{(120)}_{r,p,q} u_{p}^{2} u_{q}^{2} u_{r} v_{r} - 2 h^{(120)}_{r,p,q} u_{p}^{2} u_{r} v_{q}^{2} v_{r} + h^{(120)}_{r,p,q} u_{r} v_{p}^{2} v_{q}^{2} v_{r}\\right)  \\mathbf{N}_{p} \\mathbf{N}_{q}  + \\sum_{p \\in A} \\sum_{q \\in A} \\sum_{r \\in A} \\left(4 h^{(021)}_{p,q,r} u_{p}^{2} u_{q} u_{r} v_{q} v_{r} - 4 h^{(021)}_{p,q,r} u_{q} u_{r} v_{p}^{2} v_{q} v_{r} + 4 h^{(021)}_{p,r,q} u_{p}^{2} u_{q}^{2} v_{r}^{2} - 4 h^{(021)}_{p,r,q} u_{q}^{2} v_{p}^{2} v_{r}^{2} - 8 h^{(021)}_{q,r,p} u_{p} u_{q} v_{p} v_{q} v_{r}^{2} - 8 h^{(120)}_{p,q,r} u_{p} u_{q} v_{p} v_{q} v_{r}^{2} - 4 h^{(120)}_{q,p,r} u_{p}^{2} v_{q}^{2} v_{r}^{2} + 4 h^{(120)}_{q,p,r} v_{p}^{2} v_{q}^{2} v_{r}^{2} + 4 h^{(120)}_{r,p,q} u_{p}^{2} u_{q} u_{r} v_{q} v_{r} - 4 h^{(120)}_{r,p,q} u_{q} u_{r} v_{p}^{2} v_{q} v_{r}\\right)  \\mathbf{N}_{p} \\mathbf{P}_{q}  + \\sum_{p \\in A} \\sum_{q \\in A} \\left(h^{(011)}_{p,q} u_{p}^{2} u_{q}^{2} - h^{(011)}_{p,q} u_{q}^{2} v_{p}^{2} - 2 h^{(011)}_{q,p} u_{p} u_{q} v_{p} v_{q} + 4 h^{(020)}_{p,q} u_{p}^{2} u_{q} v_{q} - 4 h^{(020)}_{p,q} u_{q} v_{p}^{2} v_{q} - 4 h^{(021)}_{p,p,q} u_{p}^{2} u_{q}^{2} v_{p}^{2} + 8 h^{(021)}_{p,q,p} u_{p} u_{q} v_{p}^{3} v_{q} - 8 h^{(021)}_{p,q,q} u_{p}^{2} u_{q}^{2} v_{q}^{2} + 8 h^{(021)}_{p,q,q} u_{q}^{2} v_{p}^{2} v_{q}^{2} - 4 h^{(021)}_{q,q,p} u_{p} u_{q}^{3} v_{p} v_{q} + 4 h^{(021)}_{q,q,p} u_{p} u_{q} v_{p} v_{q}^{3} - 2 h^{(110)}_{p,q} u_{p} u_{q} v_{p} v_{q} - h^{(110)}_{q,p} u_{p}^{2} v_{q}^{2} + h^{(110)}_{q,p} v_{p}^{2} v_{q}^{2} + 8 h^{(120)}_{p,p,q} u_{p} u_{q} v_{p}^{3} v_{q} - 4 h^{(120)}_{p,q,q} u_{p} u_{q}^{3} v_{p} v_{q} + 4 h^{(120)}_{p,q,q} u_{p} u_{q} v_{p} v_{q}^{3} + 4 h^{(120)}_{q,p,p} u_{p}^{2} v_{p}^{2} v_{q}^{2} - 4 h^{(120)}_{q,p,q} u_{p}^{2} u_{q}^{2} v_{q}^{2} + 4 h^{(120)}_{q,p,q} u_{p}^{2} v_{q}^{4} + 4 h^{(120)}_{q,p,q} u_{q}^{2} v_{p}^{2} v_{q}^{2} - 4 h^{(120)}_{q,p,q} v_{p}^{2} v_{q}^{4}\\right)  \\mathbf{N}_{p} \\mathbf{P}_{q}  + \\sum_{p \\in A} \\sum_{q \\in A} \\left(2 h^{(011)}_{p,q} u_{q} v_{p}^{2} v_{q} + 4 h^{(020)}_{p,q} v_{p}^{2} v_{q}^{2} + 4 h^{(021)}_{p,p,q} u_{p}^{2} u_{q} v_{p}^{2} v_{q} - 8 h^{(021)}_{p,q,p} u_{p} v_{p}^{3} v_{q}^{2} + 2 h^{(110)}_{p,q} u_{p} v_{p} v_{q}^{2} - 8 h^{(120)}_{p,p,q} u_{p} v_{p}^{3} v_{q}^{2} + 4 h^{(120)}_{p,q,q} u_{p} u_{q}^{2} v_{p} v_{q}^{2}\\right)   + \\sum_{p \\in A} \\sum_{q \\in A} \\left(h^{(011)}_{p,q} u_{p}^{2} u_{q} v_{q} - h^{(011)}_{p,q} u_{q} v_{p}^{2} v_{q} - 2 h^{(011)}_{q,p} u_{p} v_{p} v_{q}^{2} + 4 h^{(020)}_{p,q} u_{p}^{2} v_{q}^{2} - 4 h^{(020)}_{p,q} v_{p}^{2} v_{q}^{2} - 4 h^{(021)}_{p,p,q} u_{p}^{2} u_{q} v_{p}^{2} v_{q} + 8 h^{(021)}_{p,q,p} u_{p} v_{p}^{3} v_{q}^{2} - 4 h^{(021)}_{p,q,q} u_{p}^{2} u_{q} v_{q}^{3} + 4 h^{(021)}_{p,q,q} u_{q} v_{p}^{2} v_{q}^{3} - 4 h^{(021)}_{q,q,p} u_{p} u_{q}^{2} v_{p} v_{q}^{2} - 2 h^{(110)}_{p,q} u_{p} v_{p} v_{q}^{2} + h^{(110)}_{q,p} u_{p}^{2} u_{q} v_{q} - h^{(110)}_{q,p} u_{q} v_{p}^{2} v_{q} + 8 h^{(120)}_{p,p,q} u_{p} v_{p}^{3} v_{q}^{2} - 4 h^{(120)}_{p,q,q} u_{p} u_{q}^{2} v_{p} v_{q}^{2} - 4 h^{(120)}_{q,p,p} u_{p}^{2} u_{q} v_{p}^{2} v_{q} - 4 h^{(120)}_{q,p,q} u_{p}^{2} u_{q} v_{q}^{3} + 4 h^{(120)}_{q,p,q} u_{q} v_{p}^{2} v_{q}^{3}\\right)  \\mathbf{N}_{p}  + \\sum_{p \\in A} \\sum_{q \\in A} \\sum_{r \\in A} \\left(4 h^{(021)}_{p,q,r} u_{p} u_{q} u_{r} v_{p} v_{q} v_{r} + 8 h^{(021)}_{p,r,q} u_{p} u_{q}^{2} v_{p} v_{r}^{2} - 8 h^{(120)}_{p,q,r} u_{q} v_{p}^{2} v_{q} v_{r}^{2} + 4 h^{(120)}_{r,p,q} u_{p} u_{q} u_{r} v_{p} v_{q} v_{r}\\right)  \\mathbf{P}_{p} \\mathbf{P}_{q} - \\sum_{p \\in A} \\sum_{q \\in A} \\left(h^{(011)}_{p,q} u_{p}^{2} u_{q} v_{q} - h^{(011)}_{p,q} u_{q} v_{p}^{2} v_{q} - h^{(020)}_{p,q} u_{p}^{2} u_{q}^{2} + 2 h^{(020)}_{p,q} u_{p}^{2} v_{q}^{2} - h^{(020)}_{p,q} v_{p}^{2} v_{q}^{2} - 4 h^{(021)}_{p,p,q} u_{p}^{2} u_{q} v_{p}^{2} v_{q} - 4 h^{(021)}_{p,q,q} u_{p}^{2} u_{q} v_{q}^{3} + 4 h^{(021)}_{p,q,q} u_{q} v_{p}^{2} v_{q}^{3} + h^{(110)}_{p,q} u_{p} u_{q}^{2} v_{p} - h^{(110)}_{p,q} u_{p} v_{p} v_{q}^{2} - 4 h^{(120)}_{p,p,q} u_{p} u_{q}^{2} v_{p}^{3} + 4 h^{(120)}_{p,p,q} u_{p} v_{p}^{3} v_{q}^{2} - 4 h^{(120)}_{p,q,q} u_{p} u_{q}^{2} v_{p} v_{q}^{2}\\right)  \\mathbf{N}_{p} \\mathbf{N}_{q}  + \\sum_{p \\in A} \\sum_{q \\in A} \\sum_{r \\in A} \\left(4 h^{(021)}_{p,q,r} u_{p} u_{q}^{2} u_{r}^{2} v_{p} - 4 h^{(021)}_{p,q,r} u_{p} u_{r}^{2} v_{p} v_{q}^{2} - 8 h^{(021)}_{p,r,q} u_{p} u_{q} u_{r} v_{p} v_{q} v_{r} - 4 h^{(021)}_{q,r,p} u_{q}^{2} u_{r} v_{p}^{2} v_{r} + 4 h^{(021)}_{q,r,p} u_{r} v_{p}^{2} v_{q}^{2} v_{r} + 4 h^{(120)}_{p,q,r} u_{p}^{2} u_{q}^{2} u_{r} v_{r} - 4 h^{(120)}_{p,q,r} u_{p}^{2} u_{r} v_{q}^{2} v_{r} - 8 h^{(120)}_{q,p,r} u_{p} u_{q} u_{r} v_{p} v_{q} v_{r} - 4 h^{(120)}_{r,p,q} u_{p} u_{q}^{2} v_{p} v_{r}^{2} + 4 h^{(120)}_{r,p,q} u_{p} v_{p} v_{q}^{2} v_{r}^{2}\\right)  \\mathbf{P^\\dagger}_{p} \\mathbf{N}_{q} \\mathbf{P}_{r}  + \\sum_{p \\in A} \\sum_{q \\in A} \\left(2 h^{(011)}_{p,q} u_{p} u_{q} v_{p} v_{q} + 2 h^{(011)}_{q,p} u_{p}^{2} v_{q}^{2} + 8 h^{(020)}_{p,q} u_{p} v_{p} v_{q}^{2} + 4 h^{(021)}_{p,p,q} u_{p}^{3} u_{q} v_{p} v_{q} - 4 h^{(021)}_{p,p,q} u_{p} u_{q} v_{p}^{3} v_{q} - 16 h^{(021)}_{p,q,p} u_{p}^{2} v_{p}^{2} v_{q}^{2} - 8 h^{(021)}_{p,q,q} u_{p} u_{q} v_{p} v_{q}^{3} + 4 h^{(021)}_{q,q,p} u_{p}^{2} u_{q}^{2} v_{q}^{2} - 2 h^{(110)}_{p,q} v_{p}^{2} v_{q}^{2} + 2 h^{(110)}_{q,p} u_{p} u_{q} v_{p} v_{q} - 8 h^{(120)}_{p,p,q} u_{p}^{2} v_{p}^{2} v_{q}^{2} + 8 h^{(120)}_{p,p,q} v_{p}^{4} v_{q}^{2} - 4 h^{(120)}_{p,q,q} u_{q}^{2} v_{p}^{2} v_{q}^{2} + 4 h^{(120)}_{q,p,p} u_{p}^{3} u_{q} v_{p} v_{q} - 4 h^{(120)}_{q,p,p} u_{p} u_{q} v_{p}^{3} v_{q} - 8 h^{(120)}_{q,p,q} u_{p} u_{q} v_{p} v_{q}^{3}\\right)  \\mathbf{P}_{p}  + \\sum_{p \\in A} \\sum_{q \\in A} \\sum_{r \\in A} \\left(8 h^{(021)}_{p,q,r} u_{p} u_{q} u_{r}^{2} v_{p} v_{q} - 4 h^{(021)}_{q,r,p} u_{q} u_{r} v_{p}^{2} v_{q} v_{r} + 4 h^{(120)}_{p,q,r} u_{p}^{2} u_{q} u_{r} v_{q} v_{r} - 8 h^{(120)}_{q,p,r} u_{p} u_{r} v_{p} v_{q}^{2} v_{r}\\right)  \\mathbf{P^\\dagger}_{p} \\mathbf{P}_{q} \\mathbf{P}_{r}  + \\sum_{p \\in A} \\sum_{q \\in A} \\left(2 h^{(011)}_{p,q} u_{p} u_{q}^{2} v_{p} + 4 h^{(020)}_{p,q} u_{p} u_{q} v_{p} v_{q} + 4 h^{(021)}_{p,p,q} u_{p}^{3} u_{q}^{2} v_{p} - 4 h^{(021)}_{p,p,q} u_{p} u_{q}^{2} v_{p}^{3} - 16 h^{(021)}_{p,q,q} u_{p} u_{q}^{2} v_{p} v_{q}^{2} - 2 h^{(110)}_{p,q} u_{q} v_{p}^{2} v_{q} - 4 h^{(120)}_{p,q,q} u_{q}^{3} v_{p}^{2} v_{q} + 4 h^{(120)}_{p,q,q} u_{q} v_{p}^{2} v_{q}^{3} - 8 h^{(120)}_{q,p,q} u_{p} u_{q}^{2} v_{p} v_{q}^{2} + 8 h^{(120)}_{q,p,q} u_{p} v_{p} v_{q}^{4}\\right)  \\mathbf{P}_{p} \\mathbf{P}_{q}  + \\sum_{p \\in A} \\sum_{q \\in A} \\sum_{r \\in A} \\left(8 h^{(021)}_{p,q,r} u_{p} u_{r} v_{p} v_{q}^{2} v_{r} + 4 h^{(021)}_{q,r,p} u_{p}^{2} v_{q}^{2} v_{r}^{2} - 4 h^{(120)}_{p,q,r} v_{p}^{2} v_{q}^{2} v_{r}^{2} + 8 h^{(120)}_{q,p,r} u_{p} u_{q} v_{p} v_{q} v_{r}^{2}\\right)  \\mathbf{P}_{p}  + \\sum_{p \\in A} \\left(h^{(001)}_{p} u_{p} v_{p} + 2 h^{(010)}_{p} v_{p}^{2} - 2 h^{(011)}_{p,p} u_{p} v_{p}^{3} + 4 h^{(020)}_{p,p} u_{p}^{2} v_{p}^{2} - 4 h^{(021)}_{p,p,p} u_{p}^{3} v_{p}^{3} + 4 h^{(021)}_{p,p,p} u_{p} v_{p}^{5} + h^{(100)}_{p} u_{p} v_{p} - 2 h^{(110)}_{p,p} u_{p} v_{p}^{3} - 4 h^{(120)}_{p,p,p} u_{p}^{3} v_{p}^{3} + 4 h^{(120)}_{p,p,p} u_{p} v_{p}^{5}\\right)  - \\sum_{p \\in A} \\left(h^{(001)}_{p} u_{p} v_{p} - h^{(010)}_{p} u_{p}^{2} + h^{(010)}_{p} v_{p}^{2} - 2 h^{(011)}_{p,p} u_{p} v_{p}^{3} + 4 h^{(020)}_{p,p} u_{p}^{2} v_{p}^{2} - 4 h^{(021)}_{p,p,p} u_{p}^{3} v_{p}^{3} + 4 h^{(021)}_{p,p,p} u_{p} v_{p}^{5} + h^{(100)}_{p} u_{p} v_{p} - 2 h^{(110)}_{p,p} u_{p} v_{p}^{3} - 4 h^{(120)}_{p,p,p} u_{p}^{3} v_{p}^{3} + 4 h^{(120)}_{p,p,p} u_{p} v_{p}^{5}\\right)  \\mathbf{N}_{p}  + \\sum_{p \\in A} \\left(h^{(001)}_{p} u_{p}^{2} + 2 h^{(010)}_{p} u_{p} v_{p} - 4 h^{(011)}_{p,p} u_{p}^{2} v_{p}^{2} + 4 h^{(020)}_{p,p} u_{p}^{3} v_{p} - 4 h^{(020)}_{p,p} u_{p} v_{p}^{3} - 8 h^{(021)}_{p,p,p} u_{p}^{4} v_{p}^{2} + 16 h^{(021)}_{p,p,p} u_{p}^{2} v_{p}^{4} - h^{(100)}_{p} v_{p}^{2} - 2 h^{(110)}_{p,p} u_{p}^{2} v_{p}^{2} + 2 h^{(110)}_{p,p} v_{p}^{4} - 4 h^{(120)}_{p,p,p} u_{p}^{4} v_{p}^{2} + 16 h^{(120)}_{p,p,p} u_{p}^{2} v_{p}^{4} - 4 h^{(120)}_{p,p,p} v_{p}^{6}\\right)  \\mathbf{P}_{p}  + \\sum_{p \\in A} \\sum_{q \\in A} \\sum_{r \\in A} \\left(4 h^{(021)}_{p,q,r} u_{r} v_{p}^{2} v_{q}^{2} v_{r} + 4 h^{(120)}_{p,q,r} u_{p} v_{p} v_{q}^{2} v_{r}^{2}\\right)   + \\sum_{p \\in A} \\sum_{q \\in A} \\sum_{r \\in A} \\left(4 h^{(021)}_{p,q,r} u_{p}^{2} u_{r} v_{q}^{2} v_{r} - 4 h^{(021)}_{p,q,r} u_{r} v_{p}^{2} v_{q}^{2} v_{r} - 4 h^{(021)}_{q,r,p} u_{p} v_{p} v_{q}^{2} v_{r}^{2} - 4 h^{(120)}_{p,q,r} u_{p} v_{p} v_{q}^{2} v_{r}^{2} + 4 h^{(120)}_{q,p,r} u_{p}^{2} u_{q} v_{q} v_{r}^{2} - 4 h^{(120)}_{q,p,r} u_{q} v_{p}^{2} v_{q} v_{r}^{2}\\right)  \\mathbf{N}_{p} - \\sum_{p \\in A} \\sum_{q \\in A} \\sum_{r \\in A} \\left(4 h^{(021)}_{p,q,r} u_{p} u_{q} v_{p} v_{q} v_{r}^{2} - 4 h^{(120)}_{p,q,r} u_{p}^{2} u_{q} u_{r} v_{q} v_{r}\\right)  \\mathbf{P^\\dagger}_{p} \\mathbf{P^\\dagger}_{q} \\mathbf{P^\\dagger}_{r}  + \\sum_{p \\in A} \\sum_{q \\in A} \\sum_{r \\in A} \\left(8 h^{(021)}_{p,q,r} u_{p} u_{q} u_{r} v_{p} v_{q} v_{r} + 8 h^{(021)}_{p,r,q} u_{p} u_{q}^{2} v_{p} v_{r}^{2} - 8 h^{(021)}_{q,r,p} u_{q} v_{p}^{2} v_{q} v_{r}^{2} + 8 h^{(120)}_{p,q,r} u_{p}^{2} u_{q} v_{q} v_{r}^{2} - 8 h^{(120)}_{q,p,r} u_{p} v_{p} v_{q}^{2} v_{r}^{2} + 8 h^{(120)}_{r,p,q} u_{p} u_{q} u_{r} v_{p} v_{q} v_{r}\\right)  \\mathbf{P^\\dagger}_{p} \\mathbf{P}_{q}  + \\sum_{p \\in A} \\sum_{q \\in A} \\sum_{r \\in A} \\left(4 h^{(021)}_{p,q,r} u_{p} u_{q}^{2} u_{r} v_{p} v_{r} - 4 h^{(021)}_{p,q,r} u_{p} u_{r} v_{p} v_{q}^{2} v_{r} - 8 h^{(021)}_{p,r,q} u_{p} u_{q} v_{p} v_{q} v_{r}^{2} - 4 h^{(021)}_{q,r,p} u_{q}^{2} v_{p}^{2} v_{r}^{2} + 4 h^{(021)}_{q,r,p} v_{p}^{2} v_{q}^{2} v_{r}^{2} + 4 h^{(120)}_{p,q,r} u_{p}^{2} u_{q}^{2} v_{r}^{2} - 4 h^{(120)}_{p,q,r} u_{p}^{2} v_{q}^{2} v_{r}^{2} - 8 h^{(120)}_{q,p,r} u_{p} u_{q} v_{p} v_{q} v_{r}^{2} + 4 h^{(120)}_{r,p,q} u_{p} u_{q}^{2} u_{r} v_{p} v_{r} - 4 h^{(120)}_{r,p,q} u_{p} u_{r} v_{p} v_{q}^{2} v_{r}\\right)  \\mathbf{P^\\dagger}_{p} \\mathbf{N}_{q} - \\sum_{p \\in A} \\sum_{q \\in A} \\sum_{r \\in A} \\left(4 h^{(021)}_{p,q,r} u_{p} u_{q} u_{r} v_{p} v_{q} v_{r} + 4 h^{(021)}_{p,r,q} u_{p} u_{r}^{2} v_{p} v_{q}^{2} - 4 h^{(021)}_{p,r,q} u_{p} v_{p} v_{q}^{2} v_{r}^{2} - 4 h^{(120)}_{p,q,r} u_{p}^{2} u_{q} u_{r}^{2} v_{q} + 4 h^{(120)}_{p,q,r} u_{p}^{2} u_{q} v_{q} v_{r}^{2} + 4 h^{(120)}_{r,p,q} u_{p} u_{q} u_{r} v_{p} v_{q} v_{r}\\right)  \\mathbf{P^\\dagger}_{p} \\mathbf{P^\\dagger}_{q} \\mathbf{N}_{r} - \\sum_{p \\in A} \\sum_{q \\in A} \\sum_{r \\in A} \\left(h^{(021)}_{p,q,r} u_{p}^{2} u_{q}^{2} u_{r} v_{r} - 2 h^{(021)}_{p,q,r} u_{p}^{2} u_{r} v_{q}^{2} v_{r} + h^{(021)}_{p,q,r} u_{r} v_{p}^{2} v_{q}^{2} v_{r} + h^{(120)}_{p,q,r} u_{p} u_{q}^{2} u_{r}^{2} v_{p} - 2 h^{(120)}_{p,q,r} u_{p} u_{q}^{2} v_{p} v_{r}^{2} + h^{(120)}_{p,q,r} u_{p} v_{p} v_{q}^{2} v_{r}^{2}\\right)  \\mathbf{N}_{p} \\mathbf{N}_{q} \\mathbf{N}_{r}  + \\sum_{p \\in A} \\sum_{q \\in A} \\sum_{r \\in A} \\left(h^{(021)}_{p,q,r} u_{p}^{2} u_{q}^{2} u_{r}^{2} - 2 h^{(021)}_{p,q,r} u_{p}^{2} u_{r}^{2} v_{q}^{2} + h^{(021)}_{p,q,r} u_{r}^{2} v_{p}^{2} v_{q}^{2} - 4 h^{(021)}_{p,r,q} u_{p}^{2} u_{q} u_{r} v_{q} v_{r} + 4 h^{(021)}_{p,r,q} u_{q} u_{r} v_{p}^{2} v_{q} v_{r} - 4 h^{(120)}_{p,q,r} u_{p} u_{q}^{2} u_{r} v_{p} v_{r} + 4 h^{(120)}_{p,q,r} u_{p} u_{r} v_{p} v_{q}^{2} v_{r} - h^{(120)}_{r,p,q} u_{p}^{2} u_{q}^{2} v_{r}^{2} + 2 h^{(120)}_{r,p,q} u_{p}^{2} v_{q}^{2} v_{r}^{2} - h^{(120)}_{r,p,q} v_{p}^{2} v_{q}^{2} v_{r}^{2}\\right)  \\mathbf{N}_{p} \\mathbf{N}_{q} \\mathbf{P}_{r}  + \\sum_{p \\in A} \\sum_{q \\in A} \\sum_{r \\in A} \\left(4 h^{(021)}_{p,q,r} u_{p} u_{q} u_{r}^{2} v_{p} v_{q} - 8 h^{(021)}_{p,r,q} u_{p} u_{r} v_{p} v_{q}^{2} v_{r} + 8 h^{(120)}_{p,q,r} u_{p}^{2} u_{q} u_{r} v_{q} v_{r} - 4 h^{(120)}_{r,p,q} u_{p} u_{q} v_{p} v_{q} v_{r}^{2}\\right)  \\mathbf{P^\\dagger}_{p} \\mathbf{P^\\dagger}_{q} \\mathbf{P}_{r}  + \\sum_{p \\in A} \\sum_{q \\in A} \\sum_{r \\in A} \\left(4 h^{(021)}_{p,q,r} u_{p}^{2} u_{q} u_{r}^{2} v_{q} - 4 h^{(021)}_{p,q,r} u_{q} u_{r}^{2} v_{p}^{2} v_{q} - 4 h^{(021)}_{q,r,p} u_{p} u_{q} u_{r} v_{p} v_{q} v_{r} - 4 h^{(120)}_{p,q,r} u_{p} u_{q} u_{r} v_{p} v_{q} v_{r} - 4 h^{(120)}_{q,p,r} u_{p}^{2} u_{r} v_{q}^{2} v_{r} + 4 h^{(120)}_{q,p,r} u_{r} v_{p}^{2} v_{q}^{2} v_{r}\\right)  \\mathbf{N}_{p} \\mathbf{P}_{q} \\mathbf{P}_{r}  + \\sum_{p \\in A} \\sum_{q \\in A} \\left(2 h^{(011)}_{p,q} u_{p} u_{q} v_{p} v_{q} - 2 h^{(011)}_{q,p} v_{p}^{2} v_{q}^{2} + 8 h^{(020)}_{p,q} u_{p} v_{p} v_{q}^{2} + 4 h^{(021)}_{p,p,q} u_{p}^{3} u_{q} v_{p} v_{q} - 4 h^{(021)}_{p,p,q} u_{p} u_{q} v_{p}^{3} v_{q} - 8 h^{(021)}_{p,q,p} u_{p}^{2} v_{p}^{2} v_{q}^{2} + 8 h^{(021)}_{p,q,p} v_{p}^{4} v_{q}^{2} - 8 h^{(021)}_{p,q,q} u_{p} u_{q} v_{p} v_{q}^{3} - 4 h^{(021)}_{q,q,p} u_{q}^{2} v_{p}^{2} v_{q}^{2} + 2 h^{(110)}_{p,q} u_{p}^{2} v_{q}^{2} + 2 h^{(110)}_{q,p} u_{p} u_{q} v_{p} v_{q} - 16 h^{(120)}_{p,p,q} u_{p}^{2} v_{p}^{2} v_{q}^{2} + 4 h^{(120)}_{p,q,q} u_{p}^{2} u_{q}^{2} v_{q}^{2} + 4 h^{(120)}_{q,p,p} u_{p}^{3} u_{q} v_{p} v_{q} - 4 h^{(120)}_{q,p,p} u_{p} u_{q} v_{p}^{3} v_{q} - 8 h^{(120)}_{q,p,q} u_{p} u_{q} v_{p} v_{q}^{3}\\right)  \\mathbf{P^\\dagger}_{p}  + \\sum_{p \\in A} \\sum_{q \\in A} \\sum_{r \\in A} \\left(8 h^{(021)}_{p,q,r} u_{p} u_{r} v_{p} v_{q}^{2} v_{r} - 4 h^{(021)}_{q,r,p} v_{p}^{2} v_{q}^{2} v_{r}^{2} + 4 h^{(120)}_{p,q,r} u_{p}^{2} v_{q}^{2} v_{r}^{2} + 8 h^{(120)}_{q,p,r} u_{p} u_{q} v_{p} v_{q} v_{r}^{2}\\right)  \\mathbf{P^\\dagger}_{p} - \\sum_{p \\in A} \\sum_{q \\in A} \\left(2 h^{(011)}_{p,q} u_{p} u_{q} v_{p} v_{q} + h^{(011)}_{q,p} u_{q}^{2} v_{p}^{2} - h^{(011)}_{q,p} v_{p}^{2} v_{q}^{2} - 4 h^{(020)}_{p,q} u_{p} u_{q}^{2} v_{p} + 4 h^{(020)}_{p,q} u_{p} v_{p} v_{q}^{2} + 4 h^{(021)}_{p,p,q} u_{p}^{3} u_{q} v_{p} v_{q} - 4 h^{(021)}_{p,p,q} u_{p} u_{q} v_{p}^{3} v_{q} + 4 h^{(021)}_{p,q,p} u_{p}^{2} u_{q}^{2} v_{p}^{2} - 4 h^{(021)}_{p,q,p} u_{p}^{2} v_{p}^{2} v_{q}^{2} - 4 h^{(021)}_{p,q,p} u_{q}^{2} v_{p}^{4} + 4 h^{(021)}_{p,q,p} v_{p}^{4} v_{q}^{2} - 8 h^{(021)}_{p,q,q} u_{p} u_{q} v_{p} v_{q}^{3} - 4 h^{(021)}_{q,q,p} u_{q}^{2} v_{p}^{2} v_{q}^{2} - h^{(110)}_{p,q} u_{p}^{2} u_{q}^{2} + h^{(110)}_{p,q} u_{p}^{2} v_{q}^{2} + 2 h^{(110)}_{q,p} u_{p} u_{q} v_{p} v_{q} + 8 h^{(120)}_{p,p,q} u_{p}^{2} u_{q}^{2} v_{p}^{2} - 8 h^{(120)}_{p,p,q} u_{p}^{2} v_{p}^{2} v_{q}^{2} + 4 h^{(120)}_{p,q,q} u_{p}^{2} u_{q}^{2} v_{q}^{2} + 4 h^{(120)}_{q,p,p} u_{p}^{3} u_{q} v_{p} v_{q} - 4 h^{(120)}_{q,p,p} u_{p} u_{q} v_{p}^{3} v_{q} - 8 h^{(120)}_{q,p,q} u_{p} u_{q} v_{p} v_{q}^{3}\\right)  \\mathbf{P^\\dagger}_{p} \\mathbf{N}_{q}  + \\sum_{p \\in A} \\sum_{q \\in A} \\left(2 h^{(011)}_{p,q} u_{p} u_{q}^{2} v_{p} - 2 h^{(011)}_{q,p} u_{q} v_{p}^{2} v_{q} + 8 h^{(020)}_{p,q} u_{p} u_{q} v_{p} v_{q} + 4 h^{(021)}_{p,p,q} u_{p}^{3} u_{q}^{2} v_{p} - 4 h^{(021)}_{p,p,q} u_{p} u_{q}^{2} v_{p}^{3} - 8 h^{(021)}_{p,q,p} u_{p}^{2} u_{q} v_{p}^{2} v_{q} + 8 h^{(021)}_{p,q,p} u_{q} v_{p}^{4} v_{q} - 16 h^{(021)}_{p,q,q} u_{p} u_{q}^{2} v_{p} v_{q}^{2} - 4 h^{(021)}_{q,q,p} u_{q}^{3} v_{p}^{2} v_{q} + 4 h^{(021)}_{q,q,p} u_{q} v_{p}^{2} v_{q}^{3} + 2 h^{(110)}_{p,q} u_{p}^{2} u_{q} v_{q} - 2 h^{(110)}_{q,p} u_{p} v_{p} v_{q}^{2} - 16 h^{(120)}_{p,p,q} u_{p}^{2} u_{q} v_{p}^{2} v_{q} + 4 h^{(120)}_{p,q,q} u_{p}^{2} u_{q}^{3} v_{q} - 4 h^{(120)}_{p,q,q} u_{p}^{2} u_{q} v_{q}^{3} - 4 h^{(120)}_{q,p,p} u_{p}^{3} v_{p} v_{q}^{2} + 4 h^{(120)}_{q,p,p} u_{p} v_{p}^{3} v_{q}^{2} - 8 h^{(120)}_{q,p,q} u_{p} u_{q}^{2} v_{p} v_{q}^{2} + 8 h^{(120)}_{q,p,q} u_{p} v_{p} v_{q}^{4}\\right)  \\mathbf{P^\\dagger}_{p} \\mathbf{P}_{q} - \\sum_{p \\in A} \\left(h^{(001)}_{p} v_{p}^{2} - 2 h^{(010)}_{p} u_{p} v_{p} + 2 h^{(011)}_{p,p} u_{p}^{2} v_{p}^{2} - 2 h^{(011)}_{p,p} v_{p}^{4} - 4 h^{(020)}_{p,p} u_{p}^{3} v_{p} + 4 h^{(020)}_{p,p} u_{p} v_{p}^{3} + 4 h^{(021)}_{p,p,p} u_{p}^{4} v_{p}^{2} - 16 h^{(021)}_{p,p,p} u_{p}^{2} v_{p}^{4} + 4 h^{(021)}_{p,p,p} v_{p}^{6} - h^{(100)}_{p} u_{p}^{2} + 4 h^{(110)}_{p,p} u_{p}^{2} v_{p}^{2} + 8 h^{(120)}_{p,p,p} u_{p}^{4} v_{p}^{2} - 16 h^{(120)}_{p,p,p} u_{p}^{2} v_{p}^{4}\\right)  \\mathbf{P^\\dagger}_{p}  + \\sum_{p \\in A} \\sum_{q \\in A} \\sum_{r \\in A} \\left(4 h^{(021)}_{p,q,r} u_{p} u_{q} u_{r}^{2} v_{p} v_{q} - 4 h^{(120)}_{p,q,r} u_{q} u_{r} v_{p}^{2} v_{q} v_{r}\\right)  \\mathbf{P}_{p} \\mathbf{P}_{q} \\mathbf{P}_{r}$"
      ],
      "text/plain": [
       "<IPython.core.display.Math object>"
      ]
     },
     "execution_count": 9,
     "metadata": {},
     "output_type": "execute_result"
    }
   ],
   "source": [
    "dr.set_symm(H021, Perm([1, 0,2],IDENT), valence=3) #This is correct, the symmetry factor is already \n",
    "dr.set_symm(H120, Perm([0, 2,1],IDENT), valence=3)\n",
    "dr.set_symm(H020, Perm([1,0], IDENT),valence=2)\n",
    "expr = H120[p,q,r]*P_i_dag*N_j*N_k  + H021[p,q,r]*N_i*N_j*P_k  + H110[p,q]*P_i_dag*N_j\\\n",
    " + H100[p]*P_i_dag + H011[p,q]*N_i*P_j + H001[p]*P_i + H010[p]*N_i + H020[p,q]*N_i*N_j\n",
    "H_N =  dr.einst(expr).simplify().merge()\n",
    "H_N.display()\n"
   ]
  },
  {
   "cell_type": "code",
   "execution_count": 10,
   "id": "6218c1fc-d9a6-4427-902e-190a8aac6586",
   "metadata": {},
   "outputs": [
    {
     "name": "stdout",
     "output_type": "stream",
     "text": [
      "--- Term 0 ---\n",
      "Operators (vecs): (Vec('P^\\\\dagger', (p)), Vec('P^\\\\dagger', (q)))\n",
      "\n",
      "--- Term 1 ---\n",
      "Operators (vecs): (Vec('P^\\\\dagger', (p)), Vec('N', (q)), Vec('N', (r)))\n",
      "\n",
      "--- Term 2 ---\n",
      "Operators (vecs): (Vec('P^\\\\dagger', (p)), Vec('P^\\\\dagger', (q)))\n",
      "\n",
      "--- Term 3 ---\n",
      "Operators (vecs): (Vec('N', (p)), Vec('N', (q)))\n",
      "\n",
      "--- Term 4 ---\n",
      "Operators (vecs): (Vec('N', (p)), Vec('P', (q)))\n",
      "\n",
      "--- Term 5 ---\n",
      "Operators (vecs): (Vec('N', (p)), Vec('P', (q)))\n",
      "\n",
      "--- Term 6 ---\n",
      "Operators (vecs): ()\n",
      "\n",
      "--- Term 7 ---\n",
      "Operators (vecs): (Vec('N', (p)),)\n",
      "\n",
      "--- Term 8 ---\n",
      "Operators (vecs): (Vec('P', (p)), Vec('P', (q)))\n",
      "\n",
      "--- Term 9 ---\n",
      "Operators (vecs): (Vec('N', (p)), Vec('N', (q)))\n",
      "\n",
      "--- Term 10 ---\n",
      "Operators (vecs): (Vec('P^\\\\dagger', (p)), Vec('N', (q)), Vec('P', (r)))\n",
      "\n",
      "--- Term 11 ---\n",
      "Operators (vecs): (Vec('P', (p)),)\n",
      "\n",
      "--- Term 12 ---\n",
      "Operators (vecs): (Vec('P^\\\\dagger', (p)), Vec('P', (q)), Vec('P', (r)))\n",
      "\n",
      "--- Term 13 ---\n",
      "Operators (vecs): (Vec('P', (p)), Vec('P', (q)))\n",
      "\n",
      "--- Term 14 ---\n",
      "Operators (vecs): (Vec('P', (p)),)\n",
      "\n",
      "--- Term 15 ---\n",
      "Operators (vecs): ()\n",
      "\n",
      "--- Term 16 ---\n",
      "Operators (vecs): (Vec('N', (p)),)\n",
      "\n",
      "--- Term 17 ---\n",
      "Operators (vecs): (Vec('P', (p)),)\n",
      "\n",
      "--- Term 18 ---\n",
      "Operators (vecs): ()\n",
      "\n",
      "--- Term 19 ---\n",
      "Operators (vecs): (Vec('N', (p)),)\n",
      "\n",
      "--- Term 20 ---\n",
      "Operators (vecs): (Vec('P^\\\\dagger', (p)), Vec('P^\\\\dagger', (q)), Vec('P^\\\\dagger', (r)))\n",
      "\n",
      "--- Term 21 ---\n",
      "Operators (vecs): (Vec('P^\\\\dagger', (p)), Vec('P', (q)))\n",
      "\n",
      "--- Term 22 ---\n",
      "Operators (vecs): (Vec('P^\\\\dagger', (p)), Vec('N', (q)))\n",
      "\n",
      "--- Term 23 ---\n",
      "Operators (vecs): (Vec('P^\\\\dagger', (p)), Vec('P^\\\\dagger', (q)), Vec('N', (r)))\n",
      "\n",
      "--- Term 24 ---\n",
      "Operators (vecs): (Vec('N', (p)), Vec('N', (q)), Vec('N', (r)))\n",
      "\n",
      "--- Term 25 ---\n",
      "Operators (vecs): (Vec('N', (p)), Vec('N', (q)), Vec('P', (r)))\n",
      "\n",
      "--- Term 26 ---\n",
      "Operators (vecs): (Vec('P^\\\\dagger', (p)), Vec('P^\\\\dagger', (q)), Vec('P', (r)))\n",
      "\n",
      "--- Term 27 ---\n",
      "Operators (vecs): (Vec('N', (p)), Vec('P', (q)), Vec('P', (r)))\n",
      "\n",
      "--- Term 28 ---\n",
      "Operators (vecs): (Vec('P^\\\\dagger', (p)),)\n",
      "\n",
      "--- Term 29 ---\n",
      "Operators (vecs): (Vec('P^\\\\dagger', (p)),)\n",
      "\n",
      "--- Term 30 ---\n",
      "Operators (vecs): (Vec('P^\\\\dagger', (p)), Vec('N', (q)))\n",
      "\n",
      "--- Term 31 ---\n",
      "Operators (vecs): (Vec('P^\\\\dagger', (p)), Vec('P', (q)))\n",
      "\n",
      "--- Term 32 ---\n",
      "Operators (vecs): (Vec('P^\\\\dagger', (p)),)\n",
      "\n",
      "--- Term 33 ---\n",
      "Operators (vecs): (Vec('P', (p)), Vec('P', (q)), Vec('P', (r)))\n",
      "\n"
     ]
    }
   ],
   "source": [
    "# Loop through each local term in H_N\n",
    "for i, term in enumerate(H_N.local_terms):\n",
    "    print(f\"--- Term {i} ---\")\n",
    "       # The scalar coefficient\n",
    "    print(\"Operators (vecs):\", term.vecs)   # The associated vector operators\n",
    "    print()\n"
   ]
  },
  {
   "cell_type": "code",
   "execution_count": 23,
   "id": "cf6d02a0-74ea-4619-845a-3a140ede5d97",
   "metadata": {},
   "outputs": [],
   "source": [
    "def get_PdagPdagP(term):\n",
    "    vecs = term.vecs\n",
    "    # Must be exactly 3 operators\n",
    "    if len(vecs) != 3:\n",
    "        return False\n",
    "    labels = [v.label for v in vecs]\n",
    "    # Normal-ordered triple: P† P† P\n",
    "    return labels == ['P^\\\\dagger', 'P^\\\\dagger','P']\n",
    "\n",
    "def get_PdagPP(term):\n",
    "    vecs = term.vecs\n",
    "    # Must be exactly 3 operators\n",
    "    if len(vecs) != 3:\n",
    "        return False\n",
    "    labels = [v.label for v in vecs]\n",
    "     \n",
    "    return labels == ['P^\\\\dagger', 'P','P']\n",
    "\n",
    "def get_NNN(term):\n",
    "    vecs = term.vecs\n",
    "    # Must be exactly 3 operators\n",
    "    if len(vecs) != 3:\n",
    "        return False\n",
    "    labels = [v.label for v in vecs]\n",
    "     \n",
    "    return labels == ['N', 'N','N']\n",
    "\n",
    "\n",
    "def get_PPP(term):\n",
    "    vecs = term.vecs\n",
    "    # Must be exactly 3 operators\n",
    "    if len(vecs) != 3:\n",
    "        return False\n",
    "    labels = [v.label for v in vecs]\n",
    "     \n",
    "    return labels == ['P', 'P','P']\n",
    "\n",
    "\n",
    "def get_PdagPdagN(term):\n",
    "    vecs = term.vecs\n",
    "    # Must be exactly 3 operators\n",
    "    if len(vecs) != 3:\n",
    "        return False\n",
    "    labels = [v.label for v in vecs]\n",
    "     \n",
    "    return labels == ['P^\\\\dagger', 'P^\\\\dagger','N']\n",
    "\n",
    "\n",
    "def get_NNP(term):\n",
    "    vecs = term.vecs\n",
    "    # Must be exactly 3 operators\n",
    "    if len(vecs) != 3:\n",
    "        return False\n",
    "    labels = [v.label for v in vecs]\n",
    "     \n",
    "    return labels == ['N', 'N','P']\n",
    "\n",
    "\n",
    "def get_NPP(term):\n",
    "    vecs = term.vecs\n",
    "    # Must be exactly 3 operators\n",
    "    if len(vecs) != 3:\n",
    "        return False\n",
    "    labels = [v.label for v in vecs]\n",
    "     \n",
    "    return labels == ['N', 'P','P']\n",
    "\n",
    "\n",
    "def get_PdagPdagPdag(term):\n",
    "    vecs = term.vecs\n",
    "    # Must be exactly 3 operators\n",
    "    if len(vecs) != 3:\n",
    "        return False\n",
    "    labels = [v.label for v in vecs]\n",
    "     \n",
    "    return labels == ['P^\\\\dagger','P^\\\\dagger','P^\\\\dagger']\n",
    "\n",
    "\n",
    "def get_PdagNN(term):\n",
    "    vecs = term.vecs\n",
    "    # Must be exactly 3 operators\n",
    "    if len(vecs) != 3:\n",
    "        return False\n",
    "    labels = [v.label for v in vecs]\n",
    "     \n",
    "    return labels == ['P^\\\\dagger', 'N','N']\n",
    "\n",
    "\n",
    "def get_PdagNP(term):\n",
    "    vecs = term.vecs\n",
    "    # Must be exactly 3 operators\n",
    "    if len(vecs) != 3:\n",
    "        return False\n",
    "    labels = [v.label for v in vecs]\n",
    "     \n",
    "    return labels == ['P^\\\\dagger', 'N','P']\n",
    "\n",
    "\n",
    "from drudge import Term\n",
    "\n",
    "def coeff_only(ts):\n",
    "    \"\"\"Return a TermSum with the same sums/amp but with vecs removed.\"\"\"\n",
    "    # ts can be a TermSum or anything with .map over terms\n",
    "    return ts.map(lambda t: Term(t.sums, t.amp, ()))   # vecs = ()"
   ]
  },
  {
   "cell_type": "code",
   "execution_count": 12,
   "id": "f58ff0cf-3ff4-4b86-aa10-38122f3dd0e7",
   "metadata": {},
   "outputs": [
    {
     "data": {
      "text/latex": [
       "$\\displaystyle \\sum_{p \\in A} \\left(h^{(001)}_{p} u_{p} v_{p} + 2 h^{(010)}_{p} v_{p}^{2} - 2 h^{(011)}_{p,p} u_{p} v_{p}^{3} + 4 h^{(020)}_{p,p} u_{p}^{2} v_{p}^{2} - 4 h^{(021)}_{p,p,p} u_{p}^{3} v_{p}^{3} + 4 h^{(021)}_{p,p,p} u_{p} v_{p}^{5} + h^{(100)}_{p} u_{p} v_{p} - 2 h^{(110)}_{p,p} u_{p} v_{p}^{3} - 4 h^{(120)}_{p,p,p} u_{p}^{3} v_{p}^{3} + 4 h^{(120)}_{p,p,p} u_{p} v_{p}^{5}\\right)   + \\sum_{p \\in A} \\sum_{q \\in A} \\sum_{r \\in A} \\left(4 h^{(021)}_{p,q,r} u_{r} v_{p}^{2} v_{q}^{2} v_{r} + 4 h^{(120)}_{p,q,r} u_{p} v_{p} v_{q}^{2} v_{r}^{2}\\right)   + \\sum_{p \\in A} \\sum_{q \\in A} \\left(2 h^{(011)}_{p,q} u_{q} v_{p}^{2} v_{q} + 4 h^{(020)}_{p,q} v_{p}^{2} v_{q}^{2} + 4 h^{(021)}_{p,p,q} u_{p}^{2} u_{q} v_{p}^{2} v_{q} - 8 h^{(021)}_{p,q,p} u_{p} v_{p}^{3} v_{q}^{2} + 2 h^{(110)}_{p,q} u_{p} v_{p} v_{q}^{2} - 8 h^{(120)}_{p,p,q} u_{p} v_{p}^{3} v_{q}^{2} + 4 h^{(120)}_{p,q,q} u_{p} u_{q}^{2} v_{p} v_{q}^{2}\\right) $"
      ],
      "text/plain": [
       "<IPython.core.display.Math object>"
      ]
     },
     "execution_count": 12,
     "metadata": {},
     "output_type": "execute_result"
    }
   ],
   "source": [
    "tensor0_ = H_N.filter(lambda term: len(term.vecs) == 0)\n",
    "tensor0_ = dr.einst(tensor0_).simplify().merge().merge()\n",
    "tensor0_.display()\n"
   ]
  },
  {
   "cell_type": "code",
   "execution_count": 13,
   "id": "ee42ff70-9748-4f3e-8cc4-16904c2e0099",
   "metadata": {},
   "outputs": [
    {
     "data": {
      "text/latex": [
       "$\\displaystyle \\sum_{p \\in A} \\sum_{q \\in A} \\left(2 h^{(011)}_{p,q} u_{p} u_{q} v_{p} v_{q} + 2 h^{(011)}_{q,p} u_{p}^{2} v_{q}^{2} + 8 h^{(020)}_{p,q} u_{p} v_{p} v_{q}^{2} + 4 h^{(021)}_{p,p,q} u_{p}^{3} u_{q} v_{p} v_{q} - 4 h^{(021)}_{p,p,q} u_{p} u_{q} v_{p}^{3} v_{q} - 16 h^{(021)}_{p,q,p} u_{p}^{2} v_{p}^{2} v_{q}^{2} - 8 h^{(021)}_{p,q,q} u_{p} u_{q} v_{p} v_{q}^{3} + 4 h^{(021)}_{q,q,p} u_{p}^{2} u_{q}^{2} v_{q}^{2} - 2 h^{(110)}_{p,q} v_{p}^{2} v_{q}^{2} + 2 h^{(110)}_{q,p} u_{p} u_{q} v_{p} v_{q} - 8 h^{(120)}_{p,p,q} u_{p}^{2} v_{p}^{2} v_{q}^{2} + 8 h^{(120)}_{p,p,q} v_{p}^{4} v_{q}^{2} - 4 h^{(120)}_{p,q,q} u_{q}^{2} v_{p}^{2} v_{q}^{2} + 4 h^{(120)}_{q,p,p} u_{p}^{3} u_{q} v_{p} v_{q} - 4 h^{(120)}_{q,p,p} u_{p} u_{q} v_{p}^{3} v_{q} - 8 h^{(120)}_{q,p,q} u_{p} u_{q} v_{p} v_{q}^{3}\\right)  \\mathbf{P}_{p}  + \\sum_{p \\in A} \\sum_{q \\in A} \\sum_{r \\in A} \\left(8 h^{(021)}_{p,q,r} u_{p} u_{r} v_{p} v_{q}^{2} v_{r} + 4 h^{(021)}_{q,r,p} u_{p}^{2} v_{q}^{2} v_{r}^{2} - 4 h^{(120)}_{p,q,r} v_{p}^{2} v_{q}^{2} v_{r}^{2} + 8 h^{(120)}_{q,p,r} u_{p} u_{q} v_{p} v_{q} v_{r}^{2}\\right)  \\mathbf{P}_{p} - \\sum_{p \\in A} \\left(h^{(001)}_{p} u_{p} v_{p} - h^{(010)}_{p} u_{p}^{2} + h^{(010)}_{p} v_{p}^{2} - 2 h^{(011)}_{p,p} u_{p} v_{p}^{3} + 4 h^{(020)}_{p,p} u_{p}^{2} v_{p}^{2} - 4 h^{(021)}_{p,p,p} u_{p}^{3} v_{p}^{3} + 4 h^{(021)}_{p,p,p} u_{p} v_{p}^{5} + h^{(100)}_{p} u_{p} v_{p} - 2 h^{(110)}_{p,p} u_{p} v_{p}^{3} - 4 h^{(120)}_{p,p,p} u_{p}^{3} v_{p}^{3} + 4 h^{(120)}_{p,p,p} u_{p} v_{p}^{5}\\right)  \\mathbf{N}_{p}  + \\sum_{p \\in A} \\left(h^{(001)}_{p} u_{p}^{2} + 2 h^{(010)}_{p} u_{p} v_{p} - 4 h^{(011)}_{p,p} u_{p}^{2} v_{p}^{2} + 4 h^{(020)}_{p,p} u_{p}^{3} v_{p} - 4 h^{(020)}_{p,p} u_{p} v_{p}^{3} - 8 h^{(021)}_{p,p,p} u_{p}^{4} v_{p}^{2} + 16 h^{(021)}_{p,p,p} u_{p}^{2} v_{p}^{4} - h^{(100)}_{p} v_{p}^{2} - 2 h^{(110)}_{p,p} u_{p}^{2} v_{p}^{2} + 2 h^{(110)}_{p,p} v_{p}^{4} - 4 h^{(120)}_{p,p,p} u_{p}^{4} v_{p}^{2} + 16 h^{(120)}_{p,p,p} u_{p}^{2} v_{p}^{4} - 4 h^{(120)}_{p,p,p} v_{p}^{6}\\right)  \\mathbf{P}_{p}  + \\sum_{p \\in A} \\sum_{q \\in A} \\sum_{r \\in A} \\left(4 h^{(021)}_{p,q,r} u_{p}^{2} u_{r} v_{q}^{2} v_{r} - 4 h^{(021)}_{p,q,r} u_{r} v_{p}^{2} v_{q}^{2} v_{r} - 4 h^{(021)}_{q,r,p} u_{p} v_{p} v_{q}^{2} v_{r}^{2} - 4 h^{(120)}_{p,q,r} u_{p} v_{p} v_{q}^{2} v_{r}^{2} + 4 h^{(120)}_{q,p,r} u_{p}^{2} u_{q} v_{q} v_{r}^{2} - 4 h^{(120)}_{q,p,r} u_{q} v_{p}^{2} v_{q} v_{r}^{2}\\right)  \\mathbf{N}_{p}  + \\sum_{p \\in A} \\sum_{q \\in A} \\left(h^{(011)}_{p,q} u_{p}^{2} u_{q} v_{q} - h^{(011)}_{p,q} u_{q} v_{p}^{2} v_{q} - 2 h^{(011)}_{q,p} u_{p} v_{p} v_{q}^{2} + 4 h^{(020)}_{p,q} u_{p}^{2} v_{q}^{2} - 4 h^{(020)}_{p,q} v_{p}^{2} v_{q}^{2} - 4 h^{(021)}_{p,p,q} u_{p}^{2} u_{q} v_{p}^{2} v_{q} + 8 h^{(021)}_{p,q,p} u_{p} v_{p}^{3} v_{q}^{2} - 4 h^{(021)}_{p,q,q} u_{p}^{2} u_{q} v_{q}^{3} + 4 h^{(021)}_{p,q,q} u_{q} v_{p}^{2} v_{q}^{3} - 4 h^{(021)}_{q,q,p} u_{p} u_{q}^{2} v_{p} v_{q}^{2} - 2 h^{(110)}_{p,q} u_{p} v_{p} v_{q}^{2} + h^{(110)}_{q,p} u_{p}^{2} u_{q} v_{q} - h^{(110)}_{q,p} u_{q} v_{p}^{2} v_{q} + 8 h^{(120)}_{p,p,q} u_{p} v_{p}^{3} v_{q}^{2} - 4 h^{(120)}_{p,q,q} u_{p} u_{q}^{2} v_{p} v_{q}^{2} - 4 h^{(120)}_{q,p,p} u_{p}^{2} u_{q} v_{p}^{2} v_{q} - 4 h^{(120)}_{q,p,q} u_{p}^{2} u_{q} v_{q}^{3} + 4 h^{(120)}_{q,p,q} u_{q} v_{p}^{2} v_{q}^{3}\\right)  \\mathbf{N}_{p}  + \\sum_{p \\in A} \\sum_{q \\in A} \\left(2 h^{(011)}_{p,q} u_{p} u_{q} v_{p} v_{q} - 2 h^{(011)}_{q,p} v_{p}^{2} v_{q}^{2} + 8 h^{(020)}_{p,q} u_{p} v_{p} v_{q}^{2} + 4 h^{(021)}_{p,p,q} u_{p}^{3} u_{q} v_{p} v_{q} - 4 h^{(021)}_{p,p,q} u_{p} u_{q} v_{p}^{3} v_{q} - 8 h^{(021)}_{p,q,p} u_{p}^{2} v_{p}^{2} v_{q}^{2} + 8 h^{(021)}_{p,q,p} v_{p}^{4} v_{q}^{2} - 8 h^{(021)}_{p,q,q} u_{p} u_{q} v_{p} v_{q}^{3} - 4 h^{(021)}_{q,q,p} u_{q}^{2} v_{p}^{2} v_{q}^{2} + 2 h^{(110)}_{p,q} u_{p}^{2} v_{q}^{2} + 2 h^{(110)}_{q,p} u_{p} u_{q} v_{p} v_{q} - 16 h^{(120)}_{p,p,q} u_{p}^{2} v_{p}^{2} v_{q}^{2} + 4 h^{(120)}_{p,q,q} u_{p}^{2} u_{q}^{2} v_{q}^{2} + 4 h^{(120)}_{q,p,p} u_{p}^{3} u_{q} v_{p} v_{q} - 4 h^{(120)}_{q,p,p} u_{p} u_{q} v_{p}^{3} v_{q} - 8 h^{(120)}_{q,p,q} u_{p} u_{q} v_{p} v_{q}^{3}\\right)  \\mathbf{P^\\dagger}_{p}  + \\sum_{p \\in A} \\sum_{q \\in A} \\sum_{r \\in A} \\left(8 h^{(021)}_{p,q,r} u_{p} u_{r} v_{p} v_{q}^{2} v_{r} - 4 h^{(021)}_{q,r,p} v_{p}^{2} v_{q}^{2} v_{r}^{2} + 4 h^{(120)}_{p,q,r} u_{p}^{2} v_{q}^{2} v_{r}^{2} + 8 h^{(120)}_{q,p,r} u_{p} u_{q} v_{p} v_{q} v_{r}^{2}\\right)  \\mathbf{P^\\dagger}_{p} - \\sum_{p \\in A} \\left(h^{(001)}_{p} v_{p}^{2} - 2 h^{(010)}_{p} u_{p} v_{p} + 2 h^{(011)}_{p,p} u_{p}^{2} v_{p}^{2} - 2 h^{(011)}_{p,p} v_{p}^{4} - 4 h^{(020)}_{p,p} u_{p}^{3} v_{p} + 4 h^{(020)}_{p,p} u_{p} v_{p}^{3} + 4 h^{(021)}_{p,p,p} u_{p}^{4} v_{p}^{2} - 16 h^{(021)}_{p,p,p} u_{p}^{2} v_{p}^{4} + 4 h^{(021)}_{p,p,p} v_{p}^{6} - h^{(100)}_{p} u_{p}^{2} + 4 h^{(110)}_{p,p} u_{p}^{2} v_{p}^{2} + 8 h^{(120)}_{p,p,p} u_{p}^{4} v_{p}^{2} - 16 h^{(120)}_{p,p,p} u_{p}^{2} v_{p}^{4}\\right)  \\mathbf{P^\\dagger}_{p}$"
      ],
      "text/plain": [
       "<IPython.core.display.Math object>"
      ]
     },
     "execution_count": 13,
     "metadata": {},
     "output_type": "execute_result"
    }
   ],
   "source": [
    "tensor1_ = H_N.filter(lambda term: len(term.vecs) == 1)\n",
    "tensor1_ = dr.einst(tensor1_).simplify().merge().merge()\n",
    "tensor1_.display()\n"
   ]
  },
  {
   "cell_type": "code",
   "execution_count": 14,
   "id": "d1946601-4615-44bc-81da-5beac510c460",
   "metadata": {},
   "outputs": [],
   "source": [
    "def get_Pdag(term):\n",
    "    vecs = term.vecs\n",
    "    # Must be exactly 1 operators\n",
    "    if len(vecs) != 1:\n",
    "        return False\n",
    "    labels = [v.label for v in vecs]\n",
    "     \n",
    "    return labels == ['P^\\\\dagger']\n",
    "\n",
    "def get_P(term):\n",
    "    vecs = term.vecs\n",
    "    # Must be exactly 1 operators\n",
    "    if len(vecs) != 1:\n",
    "        return False\n",
    "    labels = [v.label for v in vecs]\n",
    "     \n",
    "    return labels == ['P']\n",
    "\n",
    "def get_N(term):\n",
    "    vecs = term.vecs\n",
    "    # Must be exactly 1 operators\n",
    "    if len(vecs) != 1:\n",
    "        return False\n",
    "    labels = [v.label for v in vecs]\n",
    "     \n",
    "    return labels == ['N']\n",
    "\n"
   ]
  },
  {
   "cell_type": "code",
   "execution_count": 15,
   "id": "6884e7ff-7e2d-4857-8a35-5fcc43abd58e",
   "metadata": {},
   "outputs": [],
   "source": [
    "def get_NN(term):\n",
    "    vecs = term.vecs\n",
    "    # Must be exactly 1 operators\n",
    "    if len(vecs) != 2:\n",
    "        return False\n",
    "    labels = [v.label for v in vecs]\n",
    "     \n",
    "    return labels == ['N','N']\n",
    "\n",
    "def get_NP(term):\n",
    "    vecs = term.vecs\n",
    "    # Must be exactly 1 operators\n",
    "    if len(vecs) != 2:\n",
    "        return False\n",
    "    labels = [v.label for v in vecs]\n",
    "     \n",
    "    return labels == ['N','P']\n",
    "\n",
    "def get_PP(term):\n",
    "    vecs = term.vecs\n",
    "    # Must be exactly 1 operators\n",
    "    if len(vecs) != 2:\n",
    "        return False\n",
    "    labels = [v.label for v in vecs]\n",
    "     \n",
    "    return labels == ['P','P']\n",
    "\n",
    "def get_PdagPdag(term):\n",
    "    vecs = term.vecs\n",
    "    # Must be exactly 1 operators\n",
    "    if len(vecs) != 2:\n",
    "        return False\n",
    "    labels = [v.label for v in vecs]\n",
    "     \n",
    "    return labels == ['P^\\\\dagger','P^\\\\dagger']\n",
    "\n",
    "def get_PdagN(term):\n",
    "    vecs = term.vecs\n",
    "    # Must be exactly 1 operators\n",
    "    if len(vecs) != 2:\n",
    "        return False\n",
    "    labels = [v.label for v in vecs]\n",
    "     \n",
    "    return labels == ['P^\\\\dagger','N']\n",
    "\n",
    "def get_PdagP(term):\n",
    "    vecs = term.vecs\n",
    "    # Must be exactly 1 operators\n",
    "    if len(vecs) != 2:\n",
    "        return False\n",
    "    labels = [v.label for v in vecs]\n",
    "     \n",
    "    return labels == ['P^\\\\dagger','P']"
   ]
  },
  {
   "cell_type": "code",
   "execution_count": 16,
   "id": "2959652b-d4d8-4cc9-a507-a523148ed06d",
   "metadata": {},
   "outputs": [
    {
     "data": {
      "text/latex": [
       "$\\displaystyle \\sum_{p \\in A} \\sum_{q \\in A} \\sum_{r \\in A} \\left(4 h^{(021)}_{p,q,r} u_{p}^{2} u_{q} u_{r} v_{q} v_{r} - 4 h^{(021)}_{p,q,r} u_{q} u_{r} v_{p}^{2} v_{q} v_{r} + 4 h^{(021)}_{p,r,q} u_{p}^{2} u_{q}^{2} v_{r}^{2} - 4 h^{(021)}_{p,r,q} u_{q}^{2} v_{p}^{2} v_{r}^{2} - 8 h^{(021)}_{q,r,p} u_{p} u_{q} v_{p} v_{q} v_{r}^{2} - 8 h^{(120)}_{p,q,r} u_{p} u_{q} v_{p} v_{q} v_{r}^{2} - 4 h^{(120)}_{q,p,r} u_{p}^{2} v_{q}^{2} v_{r}^{2} + 4 h^{(120)}_{q,p,r} v_{p}^{2} v_{q}^{2} v_{r}^{2} + 4 h^{(120)}_{r,p,q} u_{p}^{2} u_{q} u_{r} v_{q} v_{r} - 4 h^{(120)}_{r,p,q} u_{q} u_{r} v_{p}^{2} v_{q} v_{r}\\right)  \\mathbf{N}_{p} \\mathbf{P}_{q}  + \\sum_{p \\in A} \\sum_{q \\in A} \\left(h^{(011)}_{p,q} u_{p}^{2} u_{q}^{2} - h^{(011)}_{p,q} u_{q}^{2} v_{p}^{2} - 2 h^{(011)}_{q,p} u_{p} u_{q} v_{p} v_{q} + 4 h^{(020)}_{p,q} u_{p}^{2} u_{q} v_{q} - 4 h^{(020)}_{p,q} u_{q} v_{p}^{2} v_{q} - 4 h^{(021)}_{p,p,q} u_{p}^{2} u_{q}^{2} v_{p}^{2} + 8 h^{(021)}_{p,q,p} u_{p} u_{q} v_{p}^{3} v_{q} - 8 h^{(021)}_{p,q,q} u_{p}^{2} u_{q}^{2} v_{q}^{2} + 8 h^{(021)}_{p,q,q} u_{q}^{2} v_{p}^{2} v_{q}^{2} - 4 h^{(021)}_{q,q,p} u_{p} u_{q}^{3} v_{p} v_{q} + 4 h^{(021)}_{q,q,p} u_{p} u_{q} v_{p} v_{q}^{3} - 2 h^{(110)}_{p,q} u_{p} u_{q} v_{p} v_{q} - h^{(110)}_{q,p} u_{p}^{2} v_{q}^{2} + h^{(110)}_{q,p} v_{p}^{2} v_{q}^{2} + 8 h^{(120)}_{p,p,q} u_{p} u_{q} v_{p}^{3} v_{q} - 4 h^{(120)}_{p,q,q} u_{p} u_{q}^{3} v_{p} v_{q} + 4 h^{(120)}_{p,q,q} u_{p} u_{q} v_{p} v_{q}^{3} + 4 h^{(120)}_{q,p,p} u_{p}^{2} v_{p}^{2} v_{q}^{2} - 4 h^{(120)}_{q,p,q} u_{p}^{2} u_{q}^{2} v_{q}^{2} + 4 h^{(120)}_{q,p,q} u_{p}^{2} v_{q}^{4} + 4 h^{(120)}_{q,p,q} u_{q}^{2} v_{p}^{2} v_{q}^{2} - 4 h^{(120)}_{q,p,q} v_{p}^{2} v_{q}^{4}\\right)  \\mathbf{N}_{p} \\mathbf{P}_{q} - \\sum_{p \\in A} \\sum_{q \\in A} \\left(h^{(011)}_{p,q} u_{p}^{2} u_{q} v_{q} - h^{(011)}_{p,q} u_{q} v_{p}^{2} v_{q} - h^{(020)}_{p,q} u_{p}^{2} u_{q}^{2} + 2 h^{(020)}_{p,q} u_{p}^{2} v_{q}^{2} - h^{(020)}_{p,q} v_{p}^{2} v_{q}^{2} - 4 h^{(021)}_{p,p,q} u_{p}^{2} u_{q} v_{p}^{2} v_{q} - 4 h^{(021)}_{p,q,p} u_{p} u_{q}^{2} v_{p}^{3} + 4 h^{(021)}_{p,q,p} u_{p} v_{p}^{3} v_{q}^{2} + h^{(110)}_{p,q} u_{p} u_{q}^{2} v_{p} - h^{(110)}_{p,q} u_{p} v_{p} v_{q}^{2} - 4 h^{(120)}_{p,p,q} u_{p} u_{q}^{2} v_{p}^{3} + 4 h^{(120)}_{p,p,q} u_{p} v_{p}^{3} v_{q}^{2} - 4 h^{(120)}_{p,q,q} u_{p} u_{q}^{2} v_{p} v_{q}^{2}\\right)  \\mathbf{N}_{p} \\mathbf{N}_{q}  + \\sum_{p \\in A} \\sum_{q \\in A} \\left(2 h^{(011)}_{p,q} u_{p} u_{q}^{2} v_{p} + 4 h^{(020)}_{p,q} u_{p} u_{q} v_{p} v_{q} + 4 h^{(021)}_{p,p,q} u_{p}^{3} u_{q}^{2} v_{p} - 4 h^{(021)}_{p,p,q} u_{p} u_{q}^{2} v_{p}^{3} - 16 h^{(021)}_{p,q,p} u_{p}^{2} u_{q} v_{p}^{2} v_{q} - 2 h^{(110)}_{p,q} u_{q} v_{p}^{2} v_{q} - 8 h^{(120)}_{p,p,q} u_{p}^{2} u_{q} v_{p}^{2} v_{q} + 8 h^{(120)}_{p,p,q} u_{q} v_{p}^{4} v_{q} - 4 h^{(120)}_{p,q,q} u_{q}^{3} v_{p}^{2} v_{q} + 4 h^{(120)}_{p,q,q} u_{q} v_{p}^{2} v_{q}^{3}\\right)  \\mathbf{P}_{p} \\mathbf{P}_{q}  + \\sum_{p \\in A} \\sum_{q \\in A} \\sum_{r \\in A} \\left(h^{(021)}_{p,q,r} u_{p}^{2} u_{q}^{2} u_{r} v_{r} - 2 h^{(021)}_{p,q,r} u_{p}^{2} u_{r} v_{q}^{2} v_{r} + h^{(021)}_{p,q,r} u_{r} v_{p}^{2} v_{q}^{2} v_{r} - 4 h^{(021)}_{p,r,q} u_{p}^{2} u_{q} v_{q} v_{r}^{2} + 4 h^{(021)}_{p,r,q} u_{q} v_{p}^{2} v_{q} v_{r}^{2} - 4 h^{(120)}_{p,q,r} u_{p} u_{q}^{2} v_{p} v_{r}^{2} + 4 h^{(120)}_{p,q,r} u_{p} v_{p} v_{q}^{2} v_{r}^{2} + h^{(120)}_{r,p,q} u_{p}^{2} u_{q}^{2} u_{r} v_{r} - 2 h^{(120)}_{r,p,q} u_{p}^{2} u_{r} v_{q}^{2} v_{r} + h^{(120)}_{r,p,q} u_{r} v_{p}^{2} v_{q}^{2} v_{r}\\right)  \\mathbf{N}_{p} \\mathbf{N}_{q}  + \\sum_{p \\in A} \\sum_{q \\in A} \\sum_{r \\in A} \\left(4 h^{(021)}_{p,q,r} u_{p} u_{q} u_{r} v_{p} v_{q} v_{r} + 8 h^{(021)}_{p,r,q} u_{p} u_{q}^{2} v_{p} v_{r}^{2} - 8 h^{(120)}_{p,q,r} u_{q} v_{p}^{2} v_{q} v_{r}^{2} + 4 h^{(120)}_{r,p,q} u_{p} u_{q} u_{r} v_{p} v_{q} v_{r}\\right)  \\mathbf{P}_{p} \\mathbf{P}_{q} - \\sum_{p \\in A} \\sum_{q \\in A} \\left(2 h^{(011)}_{p,q} u_{p} v_{p} v_{q}^{2} - 4 h^{(020)}_{p,q} u_{p} u_{q} v_{p} v_{q} + 4 h^{(021)}_{p,p,q} u_{p}^{3} v_{p} v_{q}^{2} - 4 h^{(021)}_{p,p,q} u_{p} v_{p}^{3} v_{q}^{2} + 8 h^{(021)}_{p,q,p} u_{p}^{2} u_{q} v_{p}^{2} v_{q} - 8 h^{(021)}_{p,q,p} u_{q} v_{p}^{4} v_{q} - 2 h^{(110)}_{p,q} u_{p}^{2} u_{q} v_{q} + 16 h^{(120)}_{p,p,q} u_{p}^{2} u_{q} v_{p}^{2} v_{q} - 4 h^{(120)}_{p,q,q} u_{p}^{2} u_{q}^{3} v_{q} + 4 h^{(120)}_{p,q,q} u_{p}^{2} u_{q} v_{q}^{3}\\right)  \\mathbf{P^\\dagger}_{p} \\mathbf{P^\\dagger}_{q}  + \\sum_{p \\in A} \\sum_{q \\in A} \\sum_{r \\in A} \\left(4 h^{(021)}_{p,q,r} u_{p} u_{q} u_{r} v_{p} v_{q} v_{r} - 8 h^{(021)}_{p,r,q} u_{p} v_{p} v_{q}^{2} v_{r}^{2} + 8 h^{(120)}_{p,q,r} u_{p}^{2} u_{q} v_{q} v_{r}^{2} + 4 h^{(120)}_{r,p,q} u_{p} u_{q} u_{r} v_{p} v_{q} v_{r}\\right)  \\mathbf{P^\\dagger}_{p} \\mathbf{P^\\dagger}_{q} - \\sum_{p \\in A} \\sum_{q \\in A} \\left(2 h^{(011)}_{p,q} u_{p} u_{q} v_{p} v_{q} + h^{(011)}_{q,p} u_{q}^{2} v_{p}^{2} - h^{(011)}_{q,p} v_{p}^{2} v_{q}^{2} - 4 h^{(020)}_{p,q} u_{p} u_{q}^{2} v_{p} + 4 h^{(020)}_{p,q} u_{p} v_{p} v_{q}^{2} + 4 h^{(021)}_{p,p,q} u_{p}^{3} u_{q} v_{p} v_{q} - 4 h^{(021)}_{p,p,q} u_{p} u_{q} v_{p}^{3} v_{q} + 4 h^{(021)}_{p,q,p} u_{p}^{2} u_{q}^{2} v_{p}^{2} - 4 h^{(021)}_{p,q,p} u_{p}^{2} v_{p}^{2} v_{q}^{2} - 4 h^{(021)}_{p,q,p} u_{q}^{2} v_{p}^{4} + 4 h^{(021)}_{p,q,p} v_{p}^{4} v_{q}^{2} - 8 h^{(021)}_{p,q,q} u_{p} u_{q} v_{p} v_{q}^{3} - 4 h^{(021)}_{q,q,p} u_{q}^{2} v_{p}^{2} v_{q}^{2} - h^{(110)}_{p,q} u_{p}^{2} u_{q}^{2} + h^{(110)}_{p,q} u_{p}^{2} v_{q}^{2} + 2 h^{(110)}_{q,p} u_{p} u_{q} v_{p} v_{q} + 8 h^{(120)}_{p,p,q} u_{p}^{2} u_{q}^{2} v_{p}^{2} - 8 h^{(120)}_{p,p,q} u_{p}^{2} v_{p}^{2} v_{q}^{2} + 4 h^{(120)}_{p,q,q} u_{p}^{2} u_{q}^{2} v_{q}^{2} + 4 h^{(120)}_{q,p,p} u_{p}^{3} u_{q} v_{p} v_{q} - 4 h^{(120)}_{q,p,p} u_{p} u_{q} v_{p}^{3} v_{q} - 8 h^{(120)}_{q,p,q} u_{p} u_{q} v_{p} v_{q}^{3}\\right)  \\mathbf{P^\\dagger}_{p} \\mathbf{N}_{q}  + \\sum_{p \\in A} \\sum_{q \\in A} \\left(2 h^{(011)}_{p,q} u_{p} u_{q}^{2} v_{p} - 2 h^{(011)}_{q,p} u_{q} v_{p}^{2} v_{q} + 8 h^{(020)}_{p,q} u_{p} u_{q} v_{p} v_{q} + 4 h^{(021)}_{p,p,q} u_{p}^{3} u_{q}^{2} v_{p} - 4 h^{(021)}_{p,p,q} u_{p} u_{q}^{2} v_{p}^{3} - 8 h^{(021)}_{p,q,p} u_{p}^{2} u_{q} v_{p}^{2} v_{q} + 8 h^{(021)}_{p,q,p} u_{q} v_{p}^{4} v_{q} - 16 h^{(021)}_{p,q,q} u_{p} u_{q}^{2} v_{p} v_{q}^{2} - 4 h^{(021)}_{q,q,p} u_{q}^{3} v_{p}^{2} v_{q} + 4 h^{(021)}_{q,q,p} u_{q} v_{p}^{2} v_{q}^{3} + 2 h^{(110)}_{p,q} u_{p}^{2} u_{q} v_{q} - 2 h^{(110)}_{q,p} u_{p} v_{p} v_{q}^{2} - 16 h^{(120)}_{p,p,q} u_{p}^{2} u_{q} v_{p}^{2} v_{q} + 4 h^{(120)}_{p,q,q} u_{p}^{2} u_{q}^{3} v_{q} - 4 h^{(120)}_{p,q,q} u_{p}^{2} u_{q} v_{q}^{3} - 4 h^{(120)}_{q,p,p} u_{p}^{3} v_{p} v_{q}^{2} + 4 h^{(120)}_{q,p,p} u_{p} v_{p}^{3} v_{q}^{2} - 8 h^{(120)}_{q,p,q} u_{p} u_{q}^{2} v_{p} v_{q}^{2} + 8 h^{(120)}_{q,p,q} u_{p} v_{p} v_{q}^{4}\\right)  \\mathbf{P^\\dagger}_{p} \\mathbf{P}_{q}  + \\sum_{p \\in A} \\sum_{q \\in A} \\sum_{r \\in A} \\left(4 h^{(021)}_{p,q,r} u_{p} u_{q}^{2} u_{r} v_{p} v_{r} - 4 h^{(021)}_{p,q,r} u_{p} u_{r} v_{p} v_{q}^{2} v_{r} - 8 h^{(021)}_{p,r,q} u_{p} u_{q} v_{p} v_{q} v_{r}^{2} - 4 h^{(021)}_{q,r,p} u_{q}^{2} v_{p}^{2} v_{r}^{2} + 4 h^{(021)}_{q,r,p} v_{p}^{2} v_{q}^{2} v_{r}^{2} + 4 h^{(120)}_{p,q,r} u_{p}^{2} u_{q}^{2} v_{r}^{2} - 4 h^{(120)}_{p,q,r} u_{p}^{2} v_{q}^{2} v_{r}^{2} - 8 h^{(120)}_{q,p,r} u_{p} u_{q} v_{p} v_{q} v_{r}^{2} + 4 h^{(120)}_{r,p,q} u_{p} u_{q}^{2} u_{r} v_{p} v_{r} - 4 h^{(120)}_{r,p,q} u_{p} u_{r} v_{p} v_{q}^{2} v_{r}\\right)  \\mathbf{P^\\dagger}_{p} \\mathbf{N}_{q}  + \\sum_{p \\in A} \\sum_{q \\in A} \\sum_{r \\in A} \\left(8 h^{(021)}_{p,q,r} u_{p} u_{q} u_{r} v_{p} v_{q} v_{r} + 8 h^{(021)}_{p,r,q} u_{p} u_{q}^{2} v_{p} v_{r}^{2} - 8 h^{(021)}_{q,r,p} u_{q} v_{p}^{2} v_{q} v_{r}^{2} + 8 h^{(120)}_{p,q,r} u_{p}^{2} u_{q} v_{q} v_{r}^{2} - 8 h^{(120)}_{q,p,r} u_{p} v_{p} v_{q}^{2} v_{r}^{2} + 8 h^{(120)}_{r,p,q} u_{p} u_{q} u_{r} v_{p} v_{q} v_{r}\\right)  \\mathbf{P^\\dagger}_{p} \\mathbf{P}_{q}$"
      ],
      "text/plain": [
       "<IPython.core.display.Math object>"
      ]
     },
     "execution_count": 16,
     "metadata": {},
     "output_type": "execute_result"
    }
   ],
   "source": [
    "tensor_ = H_N.filter(lambda term: len(term.vecs) == 2)\n",
    "tensor_ = dr.einst(tensor_).simplify().merge().merge()\n",
    "tensor_.display()"
   ]
  },
  {
   "cell_type": "code",
   "execution_count": 17,
   "id": "ca413825-f41f-4442-af2b-bfbffbb2ae3c",
   "metadata": {},
   "outputs": [
    {
     "data": {
      "text/latex": [
       "$\\displaystyle \\sum_{p \\in A} \\sum_{q \\in A} \\sum_{r \\in A} \\left(8 h^{(021)}_{p,q,r} u_{p} u_{q} u_{r}^{2} v_{p} v_{q} - 4 h^{(021)}_{q,r,p} u_{q} u_{r} v_{p}^{2} v_{q} v_{r} + 4 h^{(120)}_{p,q,r} u_{p}^{2} u_{q} u_{r} v_{q} v_{r} - 8 h^{(120)}_{q,p,r} u_{p} u_{r} v_{p} v_{q}^{2} v_{r}\\right)  \\mathbf{P^\\dagger}_{p} \\mathbf{P}_{q} \\mathbf{P}_{r} - \\sum_{p \\in A} \\sum_{q \\in A} \\sum_{r \\in A} \\left(4 h^{(021)}_{p,q,r} u_{p} u_{q} v_{p} v_{q} v_{r}^{2} - 4 h^{(120)}_{p,q,r} u_{p}^{2} u_{q} u_{r} v_{q} v_{r}\\right)  \\mathbf{P^\\dagger}_{p} \\mathbf{P^\\dagger}_{q} \\mathbf{P^\\dagger}_{r}  + \\sum_{p \\in A} \\sum_{q \\in A} \\sum_{r \\in A} \\left(4 h^{(021)}_{p,q,r} u_{p} u_{q}^{2} u_{r}^{2} v_{p} - 4 h^{(021)}_{p,q,r} u_{p} u_{r}^{2} v_{p} v_{q}^{2} - 8 h^{(021)}_{p,r,q} u_{p} u_{q} u_{r} v_{p} v_{q} v_{r} - 4 h^{(021)}_{q,r,p} u_{q}^{2} u_{r} v_{p}^{2} v_{r} + 4 h^{(021)}_{q,r,p} u_{r} v_{p}^{2} v_{q}^{2} v_{r} + 4 h^{(120)}_{p,q,r} u_{p}^{2} u_{q}^{2} u_{r} v_{r} - 4 h^{(120)}_{p,q,r} u_{p}^{2} u_{r} v_{q}^{2} v_{r} - 8 h^{(120)}_{q,p,r} u_{p} u_{q} u_{r} v_{p} v_{q} v_{r} - 4 h^{(120)}_{r,p,q} u_{p} u_{q}^{2} v_{p} v_{r}^{2} + 4 h^{(120)}_{r,p,q} u_{p} v_{p} v_{q}^{2} v_{r}^{2}\\right)  \\mathbf{P^\\dagger}_{p} \\mathbf{N}_{q} \\mathbf{P}_{r} - \\sum_{p \\in A} \\sum_{q \\in A} \\sum_{r \\in A} \\left(4 h^{(021)}_{p,q,r} u_{p} u_{q}^{2} u_{r} v_{p} v_{r} - 4 h^{(021)}_{p,q,r} u_{p} u_{r} v_{p} v_{q}^{2} v_{r} + h^{(021)}_{q,r,p} u_{q}^{2} u_{r}^{2} v_{p}^{2} - 2 h^{(021)}_{q,r,p} u_{q}^{2} v_{p}^{2} v_{r}^{2} + h^{(021)}_{q,r,p} v_{p}^{2} v_{q}^{2} v_{r}^{2} - h^{(120)}_{p,q,r} u_{p}^{2} u_{q}^{2} u_{r}^{2} + 2 h^{(120)}_{p,q,r} u_{p}^{2} u_{q}^{2} v_{r}^{2} - h^{(120)}_{p,q,r} u_{p}^{2} v_{q}^{2} v_{r}^{2} + 4 h^{(120)}_{q,p,r} u_{p} u_{q} u_{r}^{2} v_{p} v_{q} - 4 h^{(120)}_{q,p,r} u_{p} u_{q} v_{p} v_{q} v_{r}^{2}\\right)  \\mathbf{P^\\dagger}_{p} \\mathbf{N}_{q} \\mathbf{N}_{r} - \\sum_{p \\in A} \\sum_{q \\in A} \\sum_{r \\in A} \\left(h^{(021)}_{p,q,r} u_{p}^{2} u_{q}^{2} u_{r} v_{r} - 2 h^{(021)}_{p,q,r} u_{p}^{2} u_{r} v_{q}^{2} v_{r} + h^{(021)}_{p,q,r} u_{r} v_{p}^{2} v_{q}^{2} v_{r} + h^{(120)}_{p,q,r} u_{p} u_{q}^{2} u_{r}^{2} v_{p} - 2 h^{(120)}_{p,q,r} u_{p} u_{q}^{2} v_{p} v_{r}^{2} + h^{(120)}_{p,q,r} u_{p} v_{p} v_{q}^{2} v_{r}^{2}\\right)  \\mathbf{N}_{p} \\mathbf{N}_{q} \\mathbf{N}_{r}  + \\sum_{p \\in A} \\sum_{q \\in A} \\sum_{r \\in A} \\left(h^{(021)}_{p,q,r} u_{p}^{2} u_{q}^{2} u_{r}^{2} - 2 h^{(021)}_{p,q,r} u_{p}^{2} u_{r}^{2} v_{q}^{2} + h^{(021)}_{p,q,r} u_{r}^{2} v_{p}^{2} v_{q}^{2} - 4 h^{(021)}_{p,r,q} u_{p}^{2} u_{q} u_{r} v_{q} v_{r} + 4 h^{(021)}_{p,r,q} u_{q} u_{r} v_{p}^{2} v_{q} v_{r} - 4 h^{(120)}_{p,q,r} u_{p} u_{q}^{2} u_{r} v_{p} v_{r} + 4 h^{(120)}_{p,q,r} u_{p} u_{r} v_{p} v_{q}^{2} v_{r} - h^{(120)}_{r,p,q} u_{p}^{2} u_{q}^{2} v_{r}^{2} + 2 h^{(120)}_{r,p,q} u_{p}^{2} v_{q}^{2} v_{r}^{2} - h^{(120)}_{r,p,q} v_{p}^{2} v_{q}^{2} v_{r}^{2}\\right)  \\mathbf{N}_{p} \\mathbf{N}_{q} \\mathbf{P}_{r} - \\sum_{p \\in A} \\sum_{q \\in A} \\sum_{r \\in A} \\left(4 h^{(021)}_{p,q,r} u_{p} u_{q} u_{r} v_{p} v_{q} v_{r} + 4 h^{(021)}_{p,r,q} u_{p} u_{r}^{2} v_{p} v_{q}^{2} - 4 h^{(021)}_{p,r,q} u_{p} v_{p} v_{q}^{2} v_{r}^{2} - 4 h^{(120)}_{p,q,r} u_{p}^{2} u_{q} u_{r}^{2} v_{q} + 4 h^{(120)}_{p,q,r} u_{p}^{2} u_{q} v_{q} v_{r}^{2} + 4 h^{(120)}_{r,p,q} u_{p} u_{q} u_{r} v_{p} v_{q} v_{r}\\right)  \\mathbf{P^\\dagger}_{p} \\mathbf{P^\\dagger}_{q} \\mathbf{N}_{r}  + \\sum_{p \\in A} \\sum_{q \\in A} \\sum_{r \\in A} \\left(4 h^{(021)}_{p,q,r} u_{p} u_{q} u_{r}^{2} v_{p} v_{q} - 8 h^{(021)}_{p,r,q} u_{p} u_{r} v_{p} v_{q}^{2} v_{r} + 8 h^{(120)}_{p,q,r} u_{p}^{2} u_{q} u_{r} v_{q} v_{r} - 4 h^{(120)}_{r,p,q} u_{p} u_{q} v_{p} v_{q} v_{r}^{2}\\right)  \\mathbf{P^\\dagger}_{p} \\mathbf{P^\\dagger}_{q} \\mathbf{P}_{r}  + \\sum_{p \\in A} \\sum_{q \\in A} \\sum_{r \\in A} \\left(4 h^{(021)}_{p,q,r} u_{p}^{2} u_{q} u_{r}^{2} v_{q} - 4 h^{(021)}_{p,q,r} u_{q} u_{r}^{2} v_{p}^{2} v_{q} - 4 h^{(021)}_{q,r,p} u_{p} u_{q} u_{r} v_{p} v_{q} v_{r} - 4 h^{(120)}_{p,q,r} u_{p} u_{q} u_{r} v_{p} v_{q} v_{r} - 4 h^{(120)}_{q,p,r} u_{p}^{2} u_{r} v_{q}^{2} v_{r} + 4 h^{(120)}_{q,p,r} u_{r} v_{p}^{2} v_{q}^{2} v_{r}\\right)  \\mathbf{N}_{p} \\mathbf{P}_{q} \\mathbf{P}_{r}  + \\sum_{p \\in A} \\sum_{q \\in A} \\sum_{r \\in A} \\left(4 h^{(021)}_{p,q,r} u_{p} u_{q} u_{r}^{2} v_{p} v_{q} - 4 h^{(120)}_{p,q,r} u_{q} u_{r} v_{p}^{2} v_{q} v_{r}\\right)  \\mathbf{P}_{p} \\mathbf{P}_{q} \\mathbf{P}_{r}$"
      ],
      "text/plain": [
       "<IPython.core.display.Math object>"
      ]
     },
     "execution_count": 17,
     "metadata": {},
     "output_type": "execute_result"
    }
   ],
   "source": [
    "tensor3_ = H_N.filter(lambda term: len(term.vecs) == 3)\n",
    "tensor3_ = dr.einst(tensor3_).simplify().merge().merge()\n",
    "tensor3_.display()\n",
    " "
   ]
  },
  {
   "cell_type": "code",
   "execution_count": 27,
   "id": "f88edd1c-3e21-47fd-bc5e-a9a28d5f731c",
   "metadata": {},
   "outputs": [
    {
     "name": "stderr",
     "output_type": "stream",
     "text": [
      "                                                                                "
     ]
    },
    {
     "data": {
      "text/latex": [
       "$\\displaystyle \\sum_{p \\in A} \\sum_{q \\in A} \\sum_{r \\in A} \\left(4 h^{(021)}_{p,q,r} u_{p} u_{q} u_{r}^{2} v_{p} v_{q} - 8 h^{(021)}_{p,q,r} u_{p} u_{q} v_{p} v_{q} v_{r}^{2} + 8 h^{(120)}_{p,q,r} u_{p}^{2} u_{q} u_{r} v_{q} v_{r} - 4 h^{(120)}_{p,q,r} u_{q} u_{r} v_{p}^{2} v_{q} v_{r}\\right) $"
      ],
      "text/plain": [
       "<IPython.core.display.Math object>"
      ]
     },
     "execution_count": 27,
     "metadata": {},
     "output_type": "execute_result"
    }
   ],
   "source": [
    "pdagpdagp_terms = tensor3_.terms.filter(get_PdagPdagP)\n",
    "H201_dr = Tensor(dr, coeff_only(pdagpdagp_terms)).simplify().merge()\n",
    " \n",
    "\n",
    "pdagpdagpdag_terms = tensor3_.terms.filter(get_PdagPdagPdag)\n",
    "H300_dr = Tensor(dr, coeff_only(pdagpdagpdag_terms)).simplify().merge()\n",
    " \n",
    "\n",
    "pdagpp_terms = tensor3_.terms.filter(get_PdagPP)\n",
    "H102_dr = Tensor(dr, coeff_only(pdagpp_terms)).simplify().merge()\n",
    "\n",
    "ppp_terms = tensor3_.terms.filter(get_PPP)\n",
    "H003_dr = Tensor(dr, coeff_only(ppp_terms)).simplify().merge()\n",
    "\n",
    "nnn_terms = tensor3_.terms.filter(get_NNN)\n",
    "H030_dr = Tensor(dr, coeff_only(nnn_terms)).simplify().merge()\n",
    "\n",
    "pdagpdagn_terms = tensor3_.terms.filter(get_PdagPdagN)\n",
    "H210_dr = Tensor(dr, coeff_only(pdagpdagn_terms)).simplify().merge()\n",
    "\n",
    "npp_terms = tensor3_.terms.filter(get_NPP)\n",
    "H012_dr = Tensor(dr, coeff_only(npp_terms)).simplify().merge()\n",
    "\n",
    "pdagnn_terms = tensor3_.terms.filter(get_PdagNN)\n",
    "H120_dr = Tensor(dr, coeff_only(pdagnn_terms)).simplify().merge()\n",
    "\n",
    "nnp_terms = tensor3_.terms.filter(get_NNP)\n",
    "H021_dr = Tensor(dr, coeff_only(nnp_terms)).simplify().merge()\n",
    "\n",
    "pdagnp_terms = tensor3_.terms.filter(get_PdagNP)\n",
    "H111_dr = Tensor(dr, coeff_only(pdagnp_terms)).simplify().merge()\n",
    "\n",
    "# rank-1 vecs\n",
    "\n",
    "pdag_terms = tensor1_.terms.filter(get_Pdag)\n",
    "H100_dr = Tensor(dr, coeff_only(pdag_terms)).simplify().merge()\n",
    "\n",
    "n_terms = tensor1_.terms.filter(get_N)\n",
    "H010_dr = Tensor(dr, coeff_only(n_terms)).simplify().merge()\n",
    "\n",
    "p_terms = tensor1_.terms.filter(get_P)\n",
    "H001_dr = Tensor(dr, coeff_only(p_terms)).simplify().merge()\n",
    "\n",
    "#rank-2 vecs\n",
    "\n",
    "pdagpdag_terms = tensor_.terms.filter(get_PdagPdag)\n",
    "H200_dr = Tensor(dr, coeff_only(pdagpdag_terms)).simplify().merge()\n",
    "\n",
    "pdagp_terms = tensor_.terms.filter(get_PdagP)\n",
    "H101_dr = Tensor(dr, coeff_only(pdagp_terms)).simplify().merge()\n",
    "\n",
    "nn_terms = tensor_.terms.filter(get_NN)\n",
    "H020_dr = Tensor(dr, coeff_only(nn_terms)).simplify().merge()\n",
    "\n",
    "pp_terms = tensor_.terms.filter(get_PP)\n",
    "H002_dr = Tensor(dr, coeff_only(pp_terms)).simplify().merge()\n",
    "\n",
    "pdagn_terms = tensor_.terms.filter(get_PdagN)\n",
    "H110_dr = Tensor(dr, coeff_only(pdagn_terms)).simplify().merge()\n",
    "\n",
    "np_terms = tensor_.terms.filter(get_NP)\n",
    "H011_dr = Tensor(dr, coeff_only(np_terms)).simplify().merge()\n",
    "\n",
    "#scalar\n",
    "tensor0_ = H_N.filter(lambda term: len(term.vecs) == 0)\n",
    "tensor0_ = dr.einst(tensor0_).simplify().merge()\n",
    "H000_dr =  tensor0_\n",
    "H201_dr.display() "
   ]
  },
  {
   "cell_type": "code",
   "execution_count": 28,
   "id": "cf7918fe-27a2-4b8b-bdae-cee7063e073a",
   "metadata": {},
   "outputs": [
    {
     "name": "stdout",
     "output_type": "stream",
     "text": [
      "Original cost: 10*na**6\n",
      "\n",
      "=== LHS type check (work_eqn) ===\n",
      "000: base=W000  type=Symbol  exts=[]  sympy? True\n",
      "001: base=W100  type=IndexedBase  exts=[(p, Range('A', 0, na))]  sympy? True\n",
      "002: base=W001  type=IndexedBase  exts=[(p, Range('A', 0, na))]  sympy? True\n",
      "003: base=W010  type=IndexedBase  exts=[(p, Range('A', 0, na))]  sympy? True\n",
      "004: base=W002  type=IndexedBase  exts=[(p, Range('A', 0, na)), (q, Range('A', 0, na))]  sympy? True\n",
      "005: base=W200  type=IndexedBase  exts=[(p, Range('A', 0, na)), (q, Range('A', 0, na))]  sympy? True\n",
      "006: base=W101  type=IndexedBase  exts=[(p, Range('A', 0, na)), (q, Range('A', 0, na))]  sympy? True\n",
      "007: base=W110  type=IndexedBase  exts=[(p, Range('A', 0, na)), (q, Range('A', 0, na))]  sympy? True\n",
      "008: base=W011  type=IndexedBase  exts=[(p, Range('A', 0, na)), (q, Range('A', 0, na))]  sympy? True\n",
      "009: base=W020  type=IndexedBase  exts=[(p, Range('A', 0, na)), (q, Range('A', 0, na))]  sympy? True\n",
      "010: base=W120  type=IndexedBase  exts=[(p, Range('A', 0, na)), (q, Range('A', 0, na)), (r, Range('A', 0, na))]  sympy? True\n",
      "011: base=W201  type=IndexedBase  exts=[(p, Range('A', 0, na)), (q, Range('A', 0, na)), (r, Range('A', 0, na))]  sympy? True\n",
      "012: base=W012  type=IndexedBase  exts=[(p, Range('A', 0, na)), (q, Range('A', 0, na)), (r, Range('A', 0, na))]  sympy? True\n",
      "013: base=W210  type=IndexedBase  exts=[(p, Range('A', 0, na)), (q, Range('A', 0, na)), (r, Range('A', 0, na))]  sympy? True\n",
      "014: base=W021  type=IndexedBase  exts=[(p, Range('A', 0, na)), (q, Range('A', 0, na)), (r, Range('A', 0, na))]  sympy? True\n",
      "015: base=W102  type=IndexedBase  exts=[(p, Range('A', 0, na)), (q, Range('A', 0, na)), (r, Range('A', 0, na))]  sympy? True\n",
      "016: base=W111  type=IndexedBase  exts=[(p, Range('A', 0, na)), (q, Range('A', 0, na)), (r, Range('A', 0, na))]  sympy? True\n",
      "017: base=W003  type=IndexedBase  exts=[(p, Range('A', 0, na)), (q, Range('A', 0, na)), (r, Range('A', 0, na))]  sympy? True\n",
      "018: base=W030  type=IndexedBase  exts=[(p, Range('A', 0, na)), (q, Range('A', 0, na)), (r, Range('A', 0, na))]  sympy? True\n",
      "019: base=W300  type=IndexedBase  exts=[(p, Range('A', 0, na)), (q, Range('A', 0, na)), (r, Range('A', 0, na))]  sympy? True\n",
      "\n",
      "=== LHS type check (eval_seq) ===\n",
      "000: base=W000  type=Symbol  exts=[]  sympy? True\n",
      "001: base=Vec('W100', ())  type=Vec  exts=[(p, Range('A', 0, na))]  sympy? False\n",
      "002: base=Vec('W001', ())  type=Vec  exts=[(p, Range('A', 0, na))]  sympy? False\n",
      "003: base=Vec('W010', ())  type=Vec  exts=[(p, Range('A', 0, na))]  sympy? False\n",
      "004: base=Vec('W002', ())  type=Vec  exts=[(p, Range('A', 0, na)), (q, Range('A', 0, na))]  sympy? False\n",
      "005: base=Vec('W200', ())  type=Vec  exts=[(p, Range('A', 0, na)), (q, Range('A', 0, na))]  sympy? False\n",
      "006: base=Vec('W101', ())  type=Vec  exts=[(p, Range('A', 0, na)), (q, Range('A', 0, na))]  sympy? False\n",
      "007: base=Vec('W110', ())  type=Vec  exts=[(p, Range('A', 0, na)), (q, Range('A', 0, na))]  sympy? False\n",
      "008: base=Vec('W011', ())  type=Vec  exts=[(p, Range('A', 0, na)), (q, Range('A', 0, na))]  sympy? False\n",
      "009: base=Vec('W020', ())  type=Vec  exts=[(p, Range('A', 0, na)), (q, Range('A', 0, na))]  sympy? False\n",
      "010: base=Vec('W120', ())  type=Vec  exts=[(p, Range('A', 0, na)), (q, Range('A', 0, na)), (r, Range('A', 0, na))]  sympy? False\n",
      "011: base=Vec('W201', ())  type=Vec  exts=[(p, Range('A', 0, na)), (q, Range('A', 0, na)), (r, Range('A', 0, na))]  sympy? False\n",
      "012: base=Vec('W012', ())  type=Vec  exts=[(p, Range('A', 0, na)), (q, Range('A', 0, na)), (r, Range('A', 0, na))]  sympy? False\n",
      "013: base=Vec('W210', ())  type=Vec  exts=[(p, Range('A', 0, na)), (q, Range('A', 0, na)), (r, Range('A', 0, na))]  sympy? False\n",
      "014: base=Vec('W021', ())  type=Vec  exts=[(p, Range('A', 0, na)), (q, Range('A', 0, na)), (r, Range('A', 0, na))]  sympy? False\n",
      "015: base=Vec('W102', ())  type=Vec  exts=[(p, Range('A', 0, na)), (q, Range('A', 0, na)), (r, Range('A', 0, na))]  sympy? False\n",
      "016: base=Vec('W111', ())  type=Vec  exts=[(p, Range('A', 0, na)), (q, Range('A', 0, na)), (r, Range('A', 0, na))]  sympy? False\n",
      "017: base=Vec('W003', ())  type=Vec  exts=[(p, Range('A', 0, na)), (q, Range('A', 0, na)), (r, Range('A', 0, na))]  sympy? False\n",
      "018: base=Vec('W030', ())  type=Vec  exts=[(p, Range('A', 0, na)), (q, Range('A', 0, na)), (r, Range('A', 0, na))]  sympy? False\n",
      "019: base=Vec('W300', ())  type=Vec  exts=[(p, Range('A', 0, na)), (q, Range('A', 0, na)), (r, Range('A', 0, na))]  sympy? False\n",
      "\n",
      "❗ Found non-SymPy LHS definitions above. Those will crash the printer.\n",
      "Optimized cost: 154*na**3\n",
      "The fortran code is printed in SFS_new.f90\n"
     ]
    }
   ],
   "source": [
    "import re\n",
    "from sympy.printing.fortran import FCodePrinter\n",
    "from drudge import Tensor\n",
    "from gristmill import FortranPrinter, optimize, get_flop_cost\n",
    "from sympy import IndexedBase\n",
    "\n",
    "H120, H110 = IndexedBase('W120'), IndexedBase('W110') \n",
    "H011,H003, H300, H030 =   IndexedBase('W011'), IndexedBase('W003'), IndexedBase('W300'), IndexedBase('W030')\n",
    "H020 = IndexedBase('W020')\n",
    "H002, H200 = IndexedBase('W002'), IndexedBase('W200')\n",
    "H000 = IndexedBase('W000')\n",
    "H101 = IndexedBase('W101')\n",
    "H010 , H001, H100 = IndexedBase('W010'),IndexedBase('W001'), IndexedBase('W100')\n",
    "H201, H210, H102 = IndexedBase('W201'),IndexedBase('W210'),IndexedBase('W102')\n",
    "H021, H012, H111 = IndexedBase('W021'),IndexedBase('W012'),IndexedBase('W111') \n",
    "\n",
    "\n",
    "work_eqn = []\n",
    "\n",
    " \n",
    "work_eqn.append(dr.define(H000, H000_dr))\n",
    "work_eqn.append(dr.define(H100[p], H100_dr))\n",
    "work_eqn.append(dr.define(H001[p], H001_dr)) \n",
    "work_eqn.append(dr.define(H010[p], H010_dr))\n",
    "work_eqn.append(dr.define(H002[p,q], H002_dr))\n",
    "work_eqn.append(dr.define(H200[p,q], H200_dr)) \n",
    "work_eqn.append(dr.define(H101[p,q], H101_dr))\n",
    "work_eqn.append(dr.define(H110[p,q], H110_dr)) \n",
    "work_eqn.append(dr.define(H011[p,q], H011_dr))\n",
    "work_eqn.append(dr.define(H020[p,q], H020_dr))\n",
    "work_eqn.append(dr.define(H120[p,q,r], H120_dr))\n",
    "work_eqn.append(dr.define(H201[p,q,r], H201_dr))\n",
    "work_eqn.append(dr.define(H012[p,q,r], H012_dr))\n",
    "work_eqn.append(dr.define(H210[p,q,r], H210_dr))\n",
    "work_eqn.append(dr.define(H021[p,q,r], H021_dr))\n",
    "work_eqn.append(dr.define(H102[p,q,r], H102_dr))\n",
    "work_eqn.append(dr.define(H111[p,q,r], H111_dr))\n",
    "work_eqn.append(dr.define(H003[p,q,r], H003_dr))\n",
    "work_eqn.append(dr.define(H030[p,q,r], H030_dr))\n",
    "work_eqn.append(dr.define(H300[p,q,r], H300_dr))\n",
    "\n",
    "\n",
    "print(\"Original cost:\", get_flop_cost(work_eqn, leading=True))\n",
    "\n",
    "# Optimize (optional)\n",
    "\n",
    "def show_lhs_types(defs, title):\n",
    "    print(f\"\\n=== LHS type check ({title}) ===\")\n",
    "    bad = []\n",
    "    for k, d in enumerate(defs):\n",
    "        base = d.base\n",
    "        is_sympy = isinstance(base, (Symbol, IndexedBase))\n",
    "        print(f\"{k:03d}: base={base!r}  type={type(base).__name__}  exts={getattr(d, 'exts', None)}  sympy? {is_sympy}\")\n",
    "        if not is_sympy:\n",
    "            bad.append((k, d))\n",
    "    return bad\n",
    "\n",
    "# if you already did `eval_seq = optimize(work_eqn, ...)`:\n",
    "# check BOTH the original and optimized sequences\n",
    "bad_work = show_lhs_types(work_eqn, \"work_eqn\")\n",
    "try:\n",
    "    bad_eval = show_lhs_types(eval_seq, \"eval_seq\")\n",
    "except NameError:\n",
    "    bad_eval = []\n",
    "\n",
    "if bad_work or bad_eval:\n",
    "    print(\"\\n❗ Found non-SymPy LHS definitions above. Those will crash the printer.\")\n",
    "else:\n",
    "    print(\"\\n✅ All LHS bases are SymPy. If it still crashes, we need to check indices next.\")\n",
    "try:\n",
    "    eval_seq = optimize(work_eqn, interm_fmt='tau{}')\n",
    "except ValueError:\n",
    "    eval_seq = work_eqn\n",
    "\n",
    " \n",
    "\n",
    "# Create printer (do NOT pass add_templ here to avoid kwarg clashes)\n",
    "fort = FortranPrinter()\n",
    "code_obj = fort.doprint(eval_seq) if hasattr(fort, \"doprint\") else fort.print(eval_seq)\n",
    "code = code_obj.text if hasattr(code_obj, \"text\") else str(code_obj)\n",
    "\n",
    "\n",
    "print(\"Optimized cost:\", get_flop_cost(eval_seq, leading=True))\n",
    "\n",
    "\n",
    " \n",
    "\n",
    "with open('SFS.f90', 'w') as f:\n",
    "    f.write(code)\n",
    "print(\"The fortran code is printed in SFS_new.f90\")"
   ]
  },
  {
   "cell_type": "code",
   "execution_count": null,
   "id": "56dea69a-fef5-4722-bf88-67d992766154",
   "metadata": {},
   "outputs": [],
   "source": [
    "sed -i.bak -E 's/(^|[^A-Za-z0-9_])na([^A-Za-z0-9_]|$)/\\1NAO\\2/g' SFS.f90"
   ]
  },
  {
   "cell_type": "code",
   "execution_count": null,
   "id": "1ea05abe-a9d7-4b9b-822b-59118455a6fb",
   "metadata": {},
   "outputs": [],
   "source": [
    "sed -i '' -E '/^[[:space:]]*!/! s/^([[:space:]]*)[Rr][Ee][Aa][Ll]([[:space:]]*\\([^)]+\\))?([[:space:]]*)(::|,)/\\1complex (kind=pr) \\4/' SFS.f90\n"
   ]
  },
  {
   "cell_type": "code",
   "execution_count": 20,
   "id": "ef47310b-f311-4062-af92-e0d7610dde60",
   "metadata": {},
   "outputs": [
    {
     "name": "stderr",
     "output_type": "stream",
     "text": [
      "                                                                                "
     ]
    },
    {
     "ename": "ValueError",
     "evalue": "('Invalid term to optimize', Term(sums=[(q, Range('A', 0, na)), (r, Range('A', 0, na))], amp=-4*na*h021[q, r, p]*v[p]**2*v[q]**2*v[r]**2, vecs=[Vec('P^\\\\dagger', (p))]), 'expecting scalar')",
     "output_type": "error",
     "traceback": [
      "\u001b[0;31m---------------------------------------------------------------------------\u001b[0m",
      "\u001b[0;31mValueError\u001b[0m                                Traceback (most recent call last)",
      "Cell \u001b[0;32mIn[20], line 4\u001b[0m\n\u001b[1;32m      1\u001b[0m H100 \u001b[38;5;241m=\u001b[39m IndexedBase(\u001b[38;5;124m'\u001b[39m\u001b[38;5;124mW100\u001b[39m\u001b[38;5;124m'\u001b[39m)\n\u001b[1;32m      2\u001b[0m expr0 \u001b[38;5;241m=\u001b[39m dr\u001b[38;5;241m.\u001b[39mdefine(H100[p],H100_dr)\n\u001b[0;32m----> 4\u001b[0m eval_equ0 \u001b[38;5;241m=\u001b[39m \u001b[43moptimize\u001b[49m\u001b[43m(\u001b[49m\n\u001b[1;32m      5\u001b[0m \u001b[43m    \u001b[49m\u001b[43m[\u001b[49m\u001b[43mexpr0\u001b[49m\u001b[43m]\u001b[49m\u001b[43m,\u001b[49m\n\u001b[1;32m      6\u001b[0m \u001b[43m    \u001b[49m\u001b[43minterm_fmt\u001b[49m\u001b[38;5;241;43m=\u001b[39;49m\u001b[38;5;124;43m'\u001b[39;49m\u001b[38;5;124;43mtau\u001b[39;49m\u001b[38;5;132;43;01m{}\u001b[39;49;00m\u001b[38;5;124;43m'\u001b[39;49m\u001b[43m,\u001b[49m\u001b[43mdrop_cutoff\u001b[49m\u001b[38;5;241;43m=\u001b[39;49m\u001b[38;5;241;43m2\u001b[39;49m\n\u001b[1;32m      7\u001b[0m \u001b[43m)\u001b[49m\n",
      "File \u001b[0;32m~/anaconda3/envs/drudge_fix/lib/python3.9/site-packages/gristmill/optimize.py:247\u001b[0m, in \u001b[0;36moptimize\u001b[0;34m(computs, substs, simplify, interm_fmt, contr_strat, opt_sum, repeated_terms_strat, opt_symm, req_an_opt, greedy_cutoff, drop_cutoff, rand_constr, remove_shallow, res_at_end, stats)\u001b[0m\n\u001b[1;32m    244\u001b[0m     drop_cutoff \u001b[38;5;241m=\u001b[39m \u001b[38;5;241m2\u001b[39m\n\u001b[1;32m    245\u001b[0m     req_an_opt \u001b[38;5;241m=\u001b[39m \u001b[38;5;28;01mTrue\u001b[39;00m\n\u001b[0;32m--> 247\u001b[0m opt \u001b[38;5;241m=\u001b[39m \u001b[43m_Optimizer\u001b[49m\u001b[43m(\u001b[49m\n\u001b[1;32m    248\u001b[0m \u001b[43m    \u001b[49m\u001b[43mcomputs\u001b[49m\u001b[43m,\u001b[49m\u001b[43m \u001b[49m\u001b[43msubsts\u001b[49m\u001b[38;5;241;43m=\u001b[39;49m\u001b[43msubsts\u001b[49m\u001b[43m,\u001b[49m\u001b[43m \u001b[49m\u001b[43minterm_fmt\u001b[49m\u001b[38;5;241;43m=\u001b[39;49m\u001b[43minterm_fmt\u001b[49m\u001b[43m,\u001b[49m\n\u001b[1;32m    249\u001b[0m \u001b[43m    \u001b[49m\u001b[43mcontr_strat\u001b[49m\u001b[38;5;241;43m=\u001b[39;49m\u001b[43mcontr_strat\u001b[49m\u001b[43m,\u001b[49m\u001b[43m \u001b[49m\u001b[43mopt_sum\u001b[49m\u001b[38;5;241;43m=\u001b[39;49m\u001b[43mopt_sum\u001b[49m\u001b[43m,\u001b[49m\n\u001b[1;32m    250\u001b[0m \u001b[43m    \u001b[49m\u001b[43mrepeated_terms_strat\u001b[49m\u001b[38;5;241;43m=\u001b[39;49m\u001b[43mrepeated_terms_strat\u001b[49m\u001b[43m,\u001b[49m\n\u001b[1;32m    251\u001b[0m \u001b[43m    \u001b[49m\u001b[43mopt_symm\u001b[49m\u001b[38;5;241;43m=\u001b[39;49m\u001b[43mopt_symm\u001b[49m\u001b[43m,\u001b[49m\u001b[43m \u001b[49m\u001b[43mreq_an_opt\u001b[49m\u001b[38;5;241;43m=\u001b[39;49m\u001b[43mreq_an_opt\u001b[49m\u001b[43m,\u001b[49m\n\u001b[1;32m    252\u001b[0m \u001b[43m    \u001b[49m\u001b[43mgreedy_cutoff\u001b[49m\u001b[38;5;241;43m=\u001b[39;49m\u001b[43mgreedy_cutoff\u001b[49m\u001b[43m,\u001b[49m\u001b[43m \u001b[49m\u001b[43mdrop_cutoff\u001b[49m\u001b[38;5;241;43m=\u001b[39;49m\u001b[43mdrop_cutoff\u001b[49m\u001b[43m,\u001b[49m\n\u001b[1;32m    253\u001b[0m \u001b[43m    \u001b[49m\u001b[43mrand_constr\u001b[49m\u001b[38;5;241;43m=\u001b[39;49m\u001b[43mrand_constr\u001b[49m\u001b[43m,\u001b[49m\u001b[43m \u001b[49m\u001b[43mremove_shallow\u001b[49m\u001b[38;5;241;43m=\u001b[39;49m\u001b[43mremove_shallow\u001b[49m\u001b[43m,\u001b[49m\u001b[43m \u001b[49m\u001b[43mstats\u001b[49m\u001b[38;5;241;43m=\u001b[39;49m\u001b[43mstats\u001b[49m\n\u001b[1;32m    254\u001b[0m \u001b[43m\u001b[49m\u001b[43m)\u001b[49m\n\u001b[1;32m    256\u001b[0m \u001b[38;5;28;01mreturn\u001b[39;00m opt\u001b[38;5;241m.\u001b[39moptimize(res_at_end\u001b[38;5;241m=\u001b[39mres_at_end)\n",
      "File \u001b[0;32m~/anaconda3/envs/drudge_fix/lib/python3.9/site-packages/gristmill/optimize.py:1440\u001b[0m, in \u001b[0;36m_Optimizer.__init__\u001b[0;34m(self, computs, substs, interm_fmt, contr_strat, opt_sum, repeated_terms_strat, opt_symm, req_an_opt, greedy_cutoff, drop_cutoff, rand_constr, remove_shallow, stats)\u001b[0m\n\u001b[1;32m   1437\u001b[0m \u001b[38;5;28mself\u001b[39m\u001b[38;5;241m.\u001b[39m_excl \u001b[38;5;241m=\u001b[39m \u001b[38;5;28mset\u001b[39m()\n\u001b[1;32m   1439\u001b[0m \u001b[38;5;66;03m# Read, process, and verify user input.\u001b[39;00m\n\u001b[0;32m-> 1440\u001b[0m \u001b[38;5;28mself\u001b[39m\u001b[38;5;241m.\u001b[39m_grist \u001b[38;5;241m=\u001b[39m [\n\u001b[1;32m   1441\u001b[0m     \u001b[38;5;28mself\u001b[39m\u001b[38;5;241m.\u001b[39m_form_grain(comput, substs) \u001b[38;5;28;01mfor\u001b[39;00m comput \u001b[38;5;129;01min\u001b[39;00m computs\n\u001b[1;32m   1442\u001b[0m ]\n\u001b[1;32m   1444\u001b[0m \u001b[38;5;66;03m# Dummies stock in terms of the substituted range.\u001b[39;00m\n\u001b[1;32m   1445\u001b[0m \u001b[38;5;28;01massert\u001b[39;00m \u001b[38;5;28mself\u001b[39m\u001b[38;5;241m.\u001b[39m_drudge \u001b[38;5;129;01mis\u001b[39;00m \u001b[38;5;129;01mnot\u001b[39;00m \u001b[38;5;28;01mNone\u001b[39;00m\n",
      "File \u001b[0;32m~/anaconda3/envs/drudge_fix/lib/python3.9/site-packages/gristmill/optimize.py:1441\u001b[0m, in \u001b[0;36m<listcomp>\u001b[0;34m(.0)\u001b[0m\n\u001b[1;32m   1437\u001b[0m \u001b[38;5;28mself\u001b[39m\u001b[38;5;241m.\u001b[39m_excl \u001b[38;5;241m=\u001b[39m \u001b[38;5;28mset\u001b[39m()\n\u001b[1;32m   1439\u001b[0m \u001b[38;5;66;03m# Read, process, and verify user input.\u001b[39;00m\n\u001b[1;32m   1440\u001b[0m \u001b[38;5;28mself\u001b[39m\u001b[38;5;241m.\u001b[39m_grist \u001b[38;5;241m=\u001b[39m [\n\u001b[0;32m-> 1441\u001b[0m     \u001b[38;5;28;43mself\u001b[39;49m\u001b[38;5;241;43m.\u001b[39;49m\u001b[43m_form_grain\u001b[49m\u001b[43m(\u001b[49m\u001b[43mcomput\u001b[49m\u001b[43m,\u001b[49m\u001b[43m \u001b[49m\u001b[43msubsts\u001b[49m\u001b[43m)\u001b[49m \u001b[38;5;28;01mfor\u001b[39;00m comput \u001b[38;5;129;01min\u001b[39;00m computs\n\u001b[1;32m   1442\u001b[0m ]\n\u001b[1;32m   1444\u001b[0m \u001b[38;5;66;03m# Dummies stock in terms of the substituted range.\u001b[39;00m\n\u001b[1;32m   1445\u001b[0m \u001b[38;5;28;01massert\u001b[39;00m \u001b[38;5;28mself\u001b[39m\u001b[38;5;241m.\u001b[39m_drudge \u001b[38;5;129;01mis\u001b[39;00m \u001b[38;5;129;01mnot\u001b[39;00m \u001b[38;5;28;01mNone\u001b[39;00m\n",
      "File \u001b[0;32m~/anaconda3/envs/drudge_fix/lib/python3.9/site-packages/gristmill/optimize.py:1523\u001b[0m, in \u001b[0;36m_Optimizer._form_grain\u001b[0;34m(self, comput, substs)\u001b[0m\n\u001b[1;32m   1521\u001b[0m \u001b[38;5;28;01mfor\u001b[39;00m term \u001b[38;5;129;01min\u001b[39;00m comput\u001b[38;5;241m.\u001b[39mrhs_terms:\n\u001b[1;32m   1522\u001b[0m     \u001b[38;5;28;01mif\u001b[39;00m \u001b[38;5;129;01mnot\u001b[39;00m term\u001b[38;5;241m.\u001b[39mis_scalar:\n\u001b[0;32m-> 1523\u001b[0m         \u001b[38;5;28;01mraise\u001b[39;00m \u001b[38;5;167;01mValueError\u001b[39;00m(\n\u001b[1;32m   1524\u001b[0m             \u001b[38;5;124m'\u001b[39m\u001b[38;5;124mInvalid term to optimize\u001b[39m\u001b[38;5;124m'\u001b[39m, term, \u001b[38;5;124m'\u001b[39m\u001b[38;5;124mexpecting scalar\u001b[39m\u001b[38;5;124m'\u001b[39m\n\u001b[1;32m   1525\u001b[0m         )\n\u001b[1;32m   1526\u001b[0m     sums \u001b[38;5;241m=\u001b[39m \u001b[38;5;28mself\u001b[39m\u001b[38;5;241m.\u001b[39m_proc_sums(term\u001b[38;5;241m.\u001b[39msums, substs, sort\u001b[38;5;241m=\u001b[39m\u001b[38;5;28;01mTrue\u001b[39;00m)\n\u001b[1;32m   1527\u001b[0m     amp \u001b[38;5;241m=\u001b[39m term\u001b[38;5;241m.\u001b[39mamp\n",
      "\u001b[0;31mValueError\u001b[0m: ('Invalid term to optimize', Term(sums=[(q, Range('A', 0, na)), (r, Range('A', 0, na))], amp=-4*na*h021[q, r, p]*v[p]**2*v[q]**2*v[r]**2, vecs=[Vec('P^\\\\dagger', (p))]), 'expecting scalar')"
     ]
    }
   ],
   "source": [
    "\n",
    "H100 = IndexedBase('W100')\n",
    "expr0 = dr.define(H100[p],H100_dr)\n",
    "\n",
    "eval_equ0 = optimize(\n",
    "    [expr0],\n",
    "    interm_fmt='tau{}',drop_cutoff=2\n",
    ")"
   ]
  },
  {
   "cell_type": "code",
   "execution_count": null,
   "id": "eaffd0de-dc63-4d9f-9b2b-4982837a7b6b",
   "metadata": {},
   "outputs": [],
   "source": []
  }
 ],
 "metadata": {
  "kernelspec": {
   "display_name": "Python (drudge_fix)",
   "language": "python",
   "name": "drudge_fix"
  },
  "language_info": {
   "codemirror_mode": {
    "name": "ipython",
    "version": 3
   },
   "file_extension": ".py",
   "mimetype": "text/x-python",
   "name": "python",
   "nbconvert_exporter": "python",
   "pygments_lexer": "ipython3",
   "version": "3.9.20"
  }
 },
 "nbformat": 4,
 "nbformat_minor": 5
}
