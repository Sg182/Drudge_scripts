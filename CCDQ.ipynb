{
 "cells": [
  {
   "cell_type": "code",
   "execution_count": 1,
   "id": "4a402011",
   "metadata": {},
   "outputs": [],
   "source": [
    "from pyspark import SparkContext\n",
    "#from dummy_spark import SparkContext\n",
    "\n",
    "from sympy import *\n",
    "from drudge import *\n",
    "from gristmill import *\n",
    "from agp_fermi import *"
   ]
  },
  {
   "cell_type": "code",
   "execution_count": 2,
   "id": "2df4dabf",
   "metadata": {},
   "outputs": [],
   "source": [
    "ctx = SparkContext()\n",
    "dr = AGPFermi(ctx)\n",
    "nam = dr.names"
   ]
  },
  {
   "cell_type": "code",
   "execution_count": 3,
   "id": "e0d43d2d",
   "metadata": {},
   "outputs": [],
   "source": [
    "c_ = nam.c_\n",
    "c_dag = nam.c_dag\n",
    "P_ = nam.P_\n",
    "P_dag = nam.P_dag\n",
    "N_ = nam.N_\n",
    "Sp = nam.J_p\n",
    "Sm = nam.J_m\n",
    "Sz = nam.J_z"
   ]
  },
  {
   "cell_type": "code",
   "execution_count": 4,
   "id": "60949096",
   "metadata": {},
   "outputs": [],
   "source": [
    "p, q, r, s, i, j, k, l = nam.A_dumms[:8]"
   ]
  },
  {
   "cell_type": "code",
   "execution_count": 5,
   "id": "9d9aa688",
   "metadata": {},
   "outputs": [],
   "source": [
    "pa_range = dr.names.A"
   ]
  },
  {
   "cell_type": "code",
   "execution_count": 12,
   "id": "d1608a0b",
   "metadata": {},
   "outputs": [],
   "source": [
    "z = IndexedBase('z')\n",
    "u = IndexedBase('u')\n",
    "t1 = IndexedBase('t1')\n",
    "t2 = IndexedBase('t2')\n",
    "t3 = IndexedBase('t3')\n",
    "t4 = IndexedBase('t4')"
   ]
  },
  {
   "cell_type": "code",
   "execution_count": 13,
   "id": "3bee3ca3",
   "metadata": {},
   "outputs": [],
   "source": [
    "h11 = IndexedBase('h11')\n",
    "h02 = IndexedBase('h02')\n",
    "h20 = IndexedBase('h20')\n",
    "h40 = IndexedBase('h40')\n",
    "h04 = IndexedBase('h04')\n",
    "h22 = IndexedBase('h22')\n",
    "ht22 = IndexedBase('ht22')\n",
    "h31 = IndexedBase('h31')\n",
    "h13 = IndexedBase('h13')"
   ]
  },
  {
   "cell_type": "code",
   "execution_count": 14,
   "id": "f227f7d1",
   "metadata": {},
   "outputs": [
    {
     "data": {
      "text/plain": [
       "<drudge.canonpy.Group at 0x7f7286347e10>"
      ]
     },
     "execution_count": 14,
     "metadata": {},
     "output_type": "execute_result"
    }
   ],
   "source": [
    "dr.set_symm(t2,Perm([1,0],IDENT))\n",
    "dr.set_symm(t3,Perm([1,0,2],IDENT),Perm([0,2,1],IDENT))\n",
    "dr.set_symm(t4,Perm([1,0,2,3],IDENT),Perm([0,1,3,2],IDENT),Perm([0,2,1,3],IDENT))\n",
    "dr.set_symm(h04,Perm([1,0],IDENT))\n",
    "dr.set_symm(h40,Perm([1,0],IDENT))"
   ]
  },
  {
   "cell_type": "code",
   "execution_count": 15,
   "id": "100c6c4f",
   "metadata": {},
   "outputs": [],
   "source": [
    "V1 = dr.einst(z[p]*P_[p])\n",
    "U1 = dr.einst(t1[p]*P_dag[p])\n",
    "U2 = dr.einst(t2[p,q]*P_dag[p]*P_dag[q])/2\n",
    "U3 = dr.einst(t3[p,q,r]*P_dag[p]*P_dag[q]*P_dag[r])/6\n",
    "U4 = dr.einst(t4[p,q,r,s]*P_dag[p]*P_dag[q]*P_dag[r]*P_dag[s])/24"
   ]
  },
  {
   "cell_type": "code",
   "execution_count": 16,
   "id": "389ab580",
   "metadata": {},
   "outputs": [],
   "source": [
    "def getterms(term):\n",
    "    vecs = term.vecs\n",
    "    if (len(vecs)==0):\n",
    "        return True\n",
    "    elif (vecs[-1].label == 'N' or vecs[-1].label == 'P'):\n",
    "        return False\n",
    "    elif (len(vecs)>4):\n",
    "        return False\n",
    "    else:\n",
    "        return True"
   ]
  },
  {
   "cell_type": "code",
   "execution_count": 17,
   "id": "7c1e9031",
   "metadata": {},
   "outputs": [],
   "source": [
    "ham = dr.einst(h11[p]*N_[p]) + dr.einst(h02[p]*P_dag[p]) + dr.einst(h20[p]*P_[p])\n",
    "ham += dr.einst(h40[p,q]*P_[p]*P_[q]) + dr.einst(h04[p,q]*P_dag[p]*P_dag[q]) + dr.einst(h22[p,q]*N_[p]*N_[q])\n",
    "ham += dr.einst(h31[p,q]*N_[p]*P_[q]) + dr.einst(h13[p,q]*P_dag[p]*N_[q]) + dr.einst(ht22[p,q]*P_dag[p]*P_[q])\n",
    "T = U1 + U2 + U3 + U4"
   ]
  },
  {
   "cell_type": "code",
   "execution_count": 18,
   "id": "3c5ee07d",
   "metadata": {},
   "outputs": [],
   "source": [
    "h1 = (ham|T).simplify()\n",
    "h2 = (h1|T/2).simplify()\n",
    "h3 = (h2|T/3).simplify()\n",
    "h4 = (h3|T/4).simplify()"
   ]
  },
  {
   "cell_type": "code",
   "execution_count": 19,
   "id": "f9eec29b",
   "metadata": {},
   "outputs": [],
   "source": [
    "hbar = dr.simplify(ham + h1 + h2 + h3 + h4)"
   ]
  },
  {
   "cell_type": "code",
   "execution_count": 20,
   "id": "87c24c8d",
   "metadata": {},
   "outputs": [],
   "source": [
    "hbarnew = hbar.filter(lambda x: getterms(x))"
   ]
  },
  {
   "cell_type": "code",
   "execution_count": 24,
   "id": "2c18310a",
   "metadata": {},
   "outputs": [
    {
     "data": {
      "text/plain": [
       "195"
      ]
     },
     "execution_count": 24,
     "metadata": {},
     "output_type": "execute_result"
    }
   ],
   "source": [
    "hbarnew.n_terms"
   ]
  },
  {
   "cell_type": "code",
   "execution_count": 25,
   "id": "89b7b507",
   "metadata": {},
   "outputs": [],
   "source": [
    "res1 = (P_[p]*hbarnew).simplify().filter(lambda x: getterms(x))\n",
    "res2 = (P_[q]*res1).simplify().filter(lambda x: getterms(x))\n",
    "res3 = (P_[r]*res2).simplify().filter(lambda x: getterms(x))\n",
    "res4 = (P_[s]*res3).simplify().filter(lambda x: getterms(x))"
   ]
  },
  {
   "cell_type": "code",
   "execution_count": 39,
   "id": "9cc2216c",
   "metadata": {},
   "outputs": [],
   "source": [
    "zero_term = [\n",
    "    (h40[p,p],0),\n",
    "    (h04[p,p],0),\n",
    "    (h31[p,p],0),\n",
    "    (h13[p,p],0),\n",
    "    (t2[p,p],0),\n",
    "    (t3[p,p,q],0),\n",
    "    (t3[q,p,p],0),\n",
    "    (t3[p,q,p],0),\n",
    "    (t4[p,p,r,s],0),\n",
    "    (t4[r,p,p,s],0),\n",
    "    (t4[r,s,p,p],0),\n",
    "    (t4[p,r,p,s],0),\n",
    "    (t4[p,r,s,p],0),\n",
    "    (t4[r,p,s,p],0),\n",
    "]"
   ]
  },
  {
   "cell_type": "code",
   "execution_count": 40,
   "id": "ef98f740",
   "metadata": {},
   "outputs": [],
   "source": [
    "ene = hbarnew.subst_all(zero_term).filter(lambda x: len(x.vecs)==0).simplify()\n",
    "r1 = res1.subst_all(zero_term).filter(lambda x: len(x.vecs)==0).simplify()\n",
    "r2 = res2.subst_all(zero_term).filter(lambda x: len(x.vecs)==0).simplify()\n",
    "r3 = res3.subst_all(zero_term).filter(lambda x: len(x.vecs)==0).simplify()\n",
    "r4 = res4.subst_all(zero_term).filter(lambda x: len(x.vecs)==0).simplify()"
   ]
  },
  {
   "cell_type": "code",
   "execution_count": 53,
   "id": "49bf63bc",
   "metadata": {},
   "outputs": [
    {
     "data": {
      "text/latex": [
       "$$\\sum_{q \\in A} h^{(20)}_{q}  t^{(2)}_{q,p}   + \\sum_{q \\in A} t^{(1)}_{q}  ht^{(22)}_{p,q}   + \\sum_{q \\in A} 2 h^{(31)}_{p,q}  t^{(2)}_{q,p}  - \\sum_{q \\in A} 4 t^{(1)}_{p}  h^{(40)}_{q,p}  t^{(2)}_{q,p}  - \\sum_{q \\in A} 2 t^{(1)}_{p}^{2}  t^{(1)}_{q}  h^{(40)}_{q,p}   + \\sum_{q \\in A} 2 t^{(1)}_{p}  t^{(1)}_{q}  h^{(31)}_{p,q}  - t^{(1)}_{p}^{2}  h^{(20)}_{p}   + 2 h^{(11)}_{p}  t^{(1)}_{p}   + 4 t^{(1)}_{p}  h^{(22)}_{p,p}   + h^{(02)}_{p}   + \\sum_{q \\in A} \\sum_{r \\in A} h^{(40)}_{q,r}  t^{(3)}_{q,r,p}   + \\sum_{q \\in A} \\sum_{r \\in A} 2 t^{(1)}_{q}  h^{(40)}_{q,r}  t^{(2)}_{r,p} $$"
      ],
      "text/plain": [
       "<IPython.core.display.Math object>"
      ]
     },
     "execution_count": 53,
     "metadata": {},
     "output_type": "execute_result"
    }
   ],
   "source": [
    "r1.display()"
   ]
  },
  {
   "cell_type": "code",
   "execution_count": 45,
   "id": "a9c63506",
   "metadata": {},
   "outputs": [],
   "source": [
    "Ene = IndexedBase('Ene')\n",
    "expr0 = dr.define(Ene,ene)\n",
    "Res1 = IndexedBase('Res1')\n",
    "expr1 = dr.define(Res1[p],r1)\n",
    "Res2 = IndexedBase('Res2')\n",
    "expr2 = dr.define(Res2[p,q],r2)\n",
    "Res3 = IndexedBase('Res3')\n",
    "expr3 = dr.define(Res3[p,q,r],r3)\n",
    "Res4 = IndexedBase('Res4')\n",
    "expr4 = dr.define(Res4[p,q,r,s],r4)"
   ]
  },
  {
   "cell_type": "code",
   "execution_count": 46,
   "id": "7242e2fa",
   "metadata": {},
   "outputs": [
    {
     "name": "stderr",
     "output_type": "stream",
     "text": [
      "/projects/guscus/apps-python/drudge/gristmill/build/lib.linux-x86_64-3.6/gristmill/optimize.py:1985: UserWarning: Internal deficiency: summation intermediate may not be fully canonicalized\n",
      "  'Internal deficiency: '\n"
     ]
    }
   ],
   "source": [
    "eval_equ0 = optimize(\n",
    "    [expr0,expr1,expr2,expr3,expr4],\n",
    "    interm_fmt='tau{}',drop_cutoff=2\n",
    ")"
   ]
  },
  {
   "cell_type": "code",
   "execution_count": 47,
   "id": "0d12922c",
   "metadata": {},
   "outputs": [
    {
     "data": {
      "text/plain": [
       "6*M_orb**5 + 753*M_orb**4 + 445*M_orb**3 + 203*M_orb**2 + 26*M_orb + 1"
      ]
     },
     "execution_count": 47,
     "metadata": {},
     "output_type": "execute_result"
    }
   ],
   "source": [
    "get_flop_cost(eval_equ0)"
   ]
  },
  {
   "cell_type": "code",
   "execution_count": 48,
   "id": "5379b741",
   "metadata": {},
   "outputs": [],
   "source": [
    "fort_printer = FortranPrinter()"
   ]
  },
  {
   "cell_type": "code",
   "execution_count": 49,
   "id": "89a0fd4d",
   "metadata": {},
   "outputs": [],
   "source": [
    "evals = fort_printer.doprint(eval_equ0)\n",
    "with open('BCS_CCDQ.f90', 'w') as fp:\n",
    "    fp.write(evals)"
   ]
  },
  {
   "cell_type": "code",
   "execution_count": 54,
   "id": "42dc1a16",
   "metadata": {},
   "outputs": [],
   "source": [
    "def getterms(term):\n",
    "    vecs = term.vecs\n",
    "    if (len(vecs)==0):\n",
    "        return True\n",
    "    elif (vecs[-1].label == 'N' or vecs[-1].label == 'P'):\n",
    "        return False\n",
    "    elif (len(vecs)>4):\n",
    "        return False\n",
    "    else:\n",
    "        return True"
   ]
  },
  {
   "cell_type": "code",
   "execution_count": 55,
   "id": "3f693e2f",
   "metadata": {},
   "outputs": [],
   "source": [
    "U2v1 = -(U2|V1).subst_all(zero_term).simplify()\n",
    "U2v2 = -(U2v1|V1/2).subst_all(zero_term).simplify()\n",
    "U4v1 = -(U4|V1).subst_all(zero_term).simplify()\n",
    "U4v2 = -(U4v1|V1/2).subst_all(zero_term).simplify()\n",
    "U4v3 = -(U4v2|V1/3).subst_all(zero_term).simplify()\n",
    "U4v4 = -(U4v3|V1/4).subst_all(zero_term).simplify()"
   ]
  },
  {
   "cell_type": "code",
   "execution_count": 56,
   "id": "5c582ca9",
   "metadata": {},
   "outputs": [],
   "source": [
    "U2v = dr.simplify(U2+U2v1+U2v2)\n",
    "U4v = dr.simplify(U4+U4v1+U4v2+U4v3+U4v4)"
   ]
  },
  {
   "cell_type": "code",
   "execution_count": 57,
   "id": "0e28dc54",
   "metadata": {},
   "outputs": [],
   "source": [
    "term0 = dr.simplify(1 + U2v + U2v*U2v/2 + U4v)\n",
    "#term1 = dr.simplify(1 + U2v + U2v*U2v/2 + U2v*U2v*U2v/6 + U2v*U2v*U2v*U2v/24 + U4v + U2v*U4v + U2v*U2v*U4v/2 + U4v*U4v/2)\n"
   ]
  },
  {
   "cell_type": "code",
   "execution_count": 16,
   "id": "b34e2727",
   "metadata": {},
   "outputs": [],
   "source": [
    "intmed1 = (U2v*U2v).simplify().subst_all(zero_term)\n",
    "intmed2 = intmed1.filter(lambda x: getterms(x)).subst_all(zero_term)\n",
    "intmed3 = (U4v).simplify().filter(lambda x: getterms(x)).subst_all(zero_term)"
   ]
  },
  {
   "cell_type": "code",
   "execution_count": 17,
   "id": "b9a06360",
   "metadata": {},
   "outputs": [],
   "source": [
    "term0 = dr.simplify(1 + U2v + intmed2/2 + U2v*intmed2/6)\n",
    "term1 = dr.simplify(intmed1*intmed2/24)"
   ]
  },
  {
   "cell_type": "code",
   "execution_count": 18,
   "id": "52d4e12f",
   "metadata": {},
   "outputs": [],
   "source": [
    "term2 = dr.simplify(intmed3 + U2v*intmed3)\n",
    "term3 = dr.simplify(intmed1*intmed3/2)"
   ]
  },
  {
   "cell_type": "code",
   "execution_count": 19,
   "id": "25ee0a13",
   "metadata": {},
   "outputs": [],
   "source": [
    "term4 = dr.simplify(U4v*intmed3/2)"
   ]
  },
  {
   "cell_type": "code",
   "execution_count": 20,
   "id": "257ba6a7",
   "metadata": {},
   "outputs": [],
   "source": [
    "tmp0 = term0.filter(lambda x: getterms(x))\n",
    "tmp1 = term1.filter(lambda x: getterms(x))\n",
    "tmp2 = term2.filter(lambda x: getterms(x))\n",
    "tmp3 = term3.filter(lambda x: getterms(x))\n",
    "tmp4 = term4.filter(lambda x: getterms(x))"
   ]
  },
  {
   "cell_type": "code",
   "execution_count": 21,
   "id": "671692f7",
   "metadata": {},
   "outputs": [],
   "source": [
    "term = dr.simplify(tmp0+tmp1+tmp2+tmp3+tmp4)"
   ]
  },
  {
   "cell_type": "code",
   "execution_count": 22,
   "id": "c765448a",
   "metadata": {},
   "outputs": [],
   "source": [
    "term = term.subst_all(zero_term)"
   ]
  },
  {
   "cell_type": "code",
   "execution_count": 58,
   "id": "cf026fa1",
   "metadata": {},
   "outputs": [],
   "source": [
    "res0 = term0.simplify().filter(lambda x: getterms(x))\n",
    "res1 = (P_[p]*res0).simplify().filter(lambda x: getterms(x))\n",
    "res2 = (P_[q]*res1).simplify().filter(lambda x: getterms(x))\n",
    "res3 = (P_[r]*res2).simplify().filter(lambda x: getterms(x))\n",
    "res4 = (P_[s]*res3).simplify().filter(lambda x: getterms(x))"
   ]
  },
  {
   "cell_type": "code",
   "execution_count": 23,
   "id": "f7cab4de",
   "metadata": {},
   "outputs": [],
   "source": [
    "tmp = term.filter(lambda x: len(x.vecs)==2).simplify()\n",
    "res2 = dr.simplify(P_[q]*P_[p]*tmp)\n",
    "tmp = term.filter(lambda x: len(x.vecs)==4).simplify()\n",
    "tmp = (P_[q]*P_[p]*tmp).simplify().filter(lambda x: getterms(x))\n",
    "res4 = dr.simplify(P_[s]*P_[r]*tmp)"
   ]
  },
  {
   "cell_type": "code",
   "execution_count": 59,
   "id": "e874eb81",
   "metadata": {},
   "outputs": [],
   "source": [
    "r0 = res0.subst_all(zero_term).filter(lambda x: len(x.vecs)==0).simplify()\n",
    "r1 = res1.subst_all(zero_term).filter(lambda x: len(x.vecs)==0).simplify()\n",
    "r2 = res2.subst_all(zero_term).filter(lambda x: len(x.vecs)==0).simplify()\n",
    "r3 = res3.subst_all(zero_term).filter(lambda x: len(x.vecs)==0).simplify()\n",
    "r4 = res4.subst_all(zero_term).filter(lambda x: len(x.vecs)==0).simplify()"
   ]
  },
  {
   "cell_type": "code",
   "execution_count": 60,
   "id": "bbcee472",
   "metadata": {},
   "outputs": [],
   "source": [
    "c0 = IndexedBase('c0')\n",
    "expr0 = dr.define(c0,r0)\n",
    "c1 = IndexedBase('c1')\n",
    "expr1 = dr.define(c1[p],r1)\n",
    "c2 = IndexedBase('c2')\n",
    "expr2 = dr.define(c2[p,q],r2)\n",
    "c3 = IndexedBase('c3')\n",
    "expr3 = dr.define(c3[p,q,r],r3)\n",
    "c4 = IndexedBase('c4')\n",
    "expr4 = dr.define(c4[p,q,r,s],r4)"
   ]
  },
  {
   "cell_type": "code",
   "execution_count": 61,
   "id": "07283947",
   "metadata": {},
   "outputs": [
    {
     "name": "stderr",
     "output_type": "stream",
     "text": [
      "/projects/guscus/apps-python/drudge/gristmill/build/lib.linux-x86_64-3.6/gristmill/optimize.py:1985: UserWarning: Internal deficiency: summation intermediate may not be fully canonicalized\n",
      "  'Internal deficiency: '\n"
     ]
    }
   ],
   "source": [
    "eval_equ0 = optimize(\n",
    "    [expr0,expr1,expr2,expr3,expr4],\n",
    "    interm_fmt='tau{}',drop_cutoff=2\n",
    ")"
   ]
  },
  {
   "cell_type": "code",
   "execution_count": 62,
   "id": "dd5d1811",
   "metadata": {},
   "outputs": [
    {
     "data": {
      "text/plain": [
       "25*M_orb**4 + 29*M_orb**3 + 34*M_orb**2 + 13*M_orb + 1"
      ]
     },
     "execution_count": 62,
     "metadata": {},
     "output_type": "execute_result"
    }
   ],
   "source": [
    "get_flop_cost(eval_equ0)"
   ]
  },
  {
   "cell_type": "code",
   "execution_count": 25,
   "id": "7317c1f2",
   "metadata": {},
   "outputs": [],
   "source": [
    "evals = fort_printer.doprint(eval_equ0)\n",
    "with open('CCDQ2nd.f90', 'w') as fp:\n",
    "    fp.write(evals)"
   ]
  },
  {
   "cell_type": "code",
   "execution_count": null,
   "id": "5147dc44",
   "metadata": {},
   "outputs": [
    {
     "name": "stderr",
     "output_type": "stream",
     "text": [
      "/projects/guscus/apps-python/drudge/gristmill/build/lib.linux-x86_64-3.6/gristmill/optimize.py:1985: UserWarning: Internal deficiency: summation intermediate may not be fully canonicalized\n",
      "  'Internal deficiency: '\n"
     ]
    }
   ],
   "source": [
    "eval_equ1 = optimize(\n",
    "    [expr1],\n",
    "    interm_fmt='tbu{}',drop_cutoff=2\n",
    ")"
   ]
  },
  {
   "cell_type": "code",
   "execution_count": null,
   "id": "5bafa3a2",
   "metadata": {},
   "outputs": [
    {
     "name": "stderr",
     "output_type": "stream",
     "text": [
      "----------------------------------------\n",
      "Exception happened during processing of request from ('127.0.0.1', 43700)\n",
      "Traceback (most recent call last):\n",
      "  File \"/projects/guscus/apps-python/python3/3.6.2/inst/lib/python3.6/socketserver.py\", line 317, in _handle_request_noblock\n",
      "    self.process_request(request, client_address)\n",
      "  File \"/projects/guscus/apps-python/python3/3.6.2/inst/lib/python3.6/socketserver.py\", line 348, in process_request\n",
      "    self.finish_request(request, client_address)\n",
      "  File \"/projects/guscus/apps-python/python3/3.6.2/inst/lib/python3.6/socketserver.py\", line 361, in finish_request\n",
      "    self.RequestHandlerClass(request, client_address, self)\n",
      "  File \"/projects/guscus/apps-python/python3/3.6.2/inst/lib/python3.6/socketserver.py\", line 696, in __init__\n",
      "    self.handle()\n",
      "  File \"/projects/guscus/apps-python/spark/2.2.0/inst/spark-2.2.0-bin-hadoop2.7/python/lib/pyspark.zip/pyspark/accumulators.py\", line 235, in handle\n",
      "    num_updates = read_int(self.rfile)\n",
      "  File \"/projects/guscus/apps-python/spark/2.2.0/inst/spark-2.2.0-bin-hadoop2.7/python/lib/pyspark.zip/pyspark/serializers.py\", line 577, in read_int\n",
      "    raise EOFError\n",
      "EOFError\n",
      "----------------------------------------\n"
     ]
    }
   ],
   "source": [
    "eval_equ2 = optimize(\n",
    "    [expr2],\n",
    "    interm_fmt='tcu{}',drop_cutoff=2\n",
    ")"
   ]
  }
 ],
 "metadata": {
  "kernelspec": {
   "display_name": "Python 3 (ipykernel)",
   "language": "python",
   "name": "python3"
  },
  "language_info": {
   "codemirror_mode": {
    "name": "ipython",
    "version": 3
   },
   "file_extension": ".py",
   "mimetype": "text/x-python",
   "name": "python",
   "nbconvert_exporter": "python",
   "pygments_lexer": "ipython3",
   "version": "3.9.20"
  }
 },
 "nbformat": 4,
 "nbformat_minor": 5
}
